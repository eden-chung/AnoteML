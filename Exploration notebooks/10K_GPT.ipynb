{
 "cells": [
  {
   "cell_type": "code",
   "execution_count": 1,
   "metadata": {},
   "outputs": [],
   "source": [
    "\"\"\"Module for fetching data from the SEC EDGAR Archives\"\"\"\n",
    "import json\n",
    "import os\n",
    "import re\n",
    "import requests\n",
    "from typing import List, Optional, Tuple, Union\n",
    "import sys\n",
    "\n",
    "if sys.version_info < (3, 8):\n",
    "    from typing_extensions import Final\n",
    "else:\n",
    "    from typing import Final\n",
    "\n",
    "import webbrowser\n",
    "\n",
    "from ratelimit import limits, sleep_and_retry\n",
    "\n",
    "VALID_FILING_TYPES: Final[List[str]] = [\n",
    "    \"10-K\",\n",
    "    \"10-Q\",\n",
    "    \"S-1\",\n",
    "    \"10-K/A\",\n",
    "    \"10-Q/A\",\n",
    "    \"S-1/A\",\n",
    "]\n",
    "\n",
    "SEC_ARCHIVE_URL: Final[str] = \"https://www.sec.gov/Archives/edgar/data\"\n",
    "SEC_SEARCH_URL: Final[str] = \"http://www.sec.gov/cgi-bin/browse-edgar\"\n",
    "SEC_SUBMISSIONS_URL = \"https://data.sec.gov/submissions\"\n",
    "\n",
    "\n",
    "def get_filing(\n",
    "    cik: Union[str, int], accession_number: Union[str, int], company: str, email: str\n",
    ") -> str:\n",
    "    \"\"\"Fetches the specified filing from the SEC EDGAR Archives. Conforms to the rate\n",
    "    limits specified on the SEC website.\n",
    "    ref: https://www.sec.gov/os/accessing-edgar-data\"\"\"\n",
    "    session = _get_session(company, email)\n",
    "    return _get_filing(session, cik, accession_number)\n",
    "\n",
    "\n",
    "@sleep_and_retry\n",
    "@limits(calls=10, period=1)\n",
    "def _get_filing(\n",
    "    session: requests.Session, cik: Union[str, int], accession_number: Union[str, int]\n",
    ") -> str:\n",
    "    \"\"\"Wrapped so filings can be retrieved with an existing session.\"\"\"\n",
    "    url = archive_url(cik, accession_number)\n",
    "    response = session.get(url)\n",
    "    response.raise_for_status()\n",
    "    return response.text\n",
    "\n",
    "\n",
    "@sleep_and_retry\n",
    "@limits(calls=10, period=1)\n",
    "def get_cik_by_ticker(session: requests.Session, ticker: str) -> str:\n",
    "    \"\"\"Gets a CIK number from a stock ticker by running a search on the SEC website.\"\"\"\n",
    "    cik_re = re.compile(r\".*CIK=(\\d{10}).*\")\n",
    "    url = _search_url(ticker)\n",
    "    response = session.get(url, stream=True)\n",
    "    response.raise_for_status()\n",
    "    results = cik_re.findall(response.text)\n",
    "    return str(results[0])\n",
    "\n",
    "\n",
    "@sleep_and_retry\n",
    "@limits(calls=10, period=1)\n",
    "def get_forms_by_cik(session: requests.Session, cik: Union[str, int]) -> dict:\n",
    "    \"\"\"Gets retrieves dict of recent SEC form filings for a given cik number.\"\"\"\n",
    "    json_name = f\"CIK{cik}.json\"\n",
    "    response = session.get(f\"{SEC_SUBMISSIONS_URL}/{json_name}\")\n",
    "    response.raise_for_status()\n",
    "    content = json.loads(response.content)\n",
    "    recent_forms = content[\"filings\"][\"recent\"]\n",
    "    form_types = {k: v for k, v in zip(recent_forms[\"accessionNumber\"], recent_forms[\"form\"])}\n",
    "    return form_types\n",
    "\n",
    "\n",
    "def _get_recent_acc_num_by_cik(\n",
    "    session: requests.Session, cik: Union[str, int], form_types: List[str]\n",
    ") -> Tuple[str, str]:\n",
    "    \"\"\"Returns accession number and form type for the most recent filing for one of the\n",
    "    given form_types (AKA filing types) for a given cik.\"\"\"\n",
    "    retrieved_form_types = get_forms_by_cik(session, cik)\n",
    "    for acc_num, form_type_ in retrieved_form_types.items():\n",
    "        if form_type_ in form_types:\n",
    "            return _drop_dashes(acc_num), form_type_\n",
    "    raise ValueError(f\"No filings found for {cik}, looking for any of: {form_types}\")\n",
    "\n",
    "\n",
    "def get_recent_acc_by_cik(\n",
    "    cik: str,\n",
    "    form_type: str,\n",
    "    company: Optional[str] = None,\n",
    "    email: Optional[str] = None,\n",
    ") -> Tuple[str, str]:\n",
    "    \"\"\"Returns (accession_number, retrieved_form_type) for the given cik and form_type.\n",
    "    The retrieved_form_type may be an amended version of requested form_type, e.g. 10-Q/A for 10-Q.\n",
    "    \"\"\"\n",
    "    session = _get_session(company, email)\n",
    "    return _get_recent_acc_num_by_cik(session, cik, _form_types(form_type))\n",
    "\n",
    "\n",
    "def get_recent_cik_and_acc_by_ticker(\n",
    "    ticker: str,\n",
    "    form_type: str,\n",
    "    company: Optional[str] = None,\n",
    "    email: Optional[str] = None,\n",
    ") -> Tuple[str, str, str]:\n",
    "    \"\"\"Returns (cik, accession_number, retrieved_form_type) for the given ticker and form_type.\n",
    "    The retrieved_form_type may be an amended version of requested form_type, e.g. 10-Q/A for 10-Q.\n",
    "    \"\"\"\n",
    "    session = _get_session(company, email)\n",
    "    cik = get_cik_by_ticker(session, ticker)\n",
    "    acc_num, retrieved_form_type = _get_recent_acc_num_by_cik(session, cik, _form_types(form_type))\n",
    "    return cik, acc_num, retrieved_form_type\n",
    "\n",
    "\n",
    "def get_form_by_ticker(\n",
    "    ticker: str,\n",
    "    form_type: str,\n",
    "    allow_amended_filing: Optional[bool] = True,\n",
    "    company: Optional[str] = None,\n",
    "    email: Optional[str] = None,\n",
    ") -> str:\n",
    "    \"\"\"For a given ticker, gets the most recent form of a given form_type.\"\"\"\n",
    "    session = _get_session(company, email)\n",
    "    cik = get_cik_by_ticker(session, ticker)\n",
    "    return get_form_by_cik(\n",
    "        cik, form_type, allow_amended_filing=allow_amended_filing, company=company, email=email\n",
    "    )\n",
    "\n",
    "\n",
    "def _form_types(form_type: str, allow_amended_filing: Optional[bool] = True):\n",
    "    \"\"\"Potentialy expand to include amended filing, e.g.:\n",
    "    \"10-Q\" -> \"10-Q/A\"\n",
    "    \"\"\"\n",
    "    assert form_type in VALID_FILING_TYPES\n",
    "    if allow_amended_filing and not form_type.endswith(\"/A\"):\n",
    "        return [form_type, f\"{form_type}/A\"]\n",
    "    else:\n",
    "        return [form_type]\n",
    "\n",
    "\n",
    "def get_form_by_cik(\n",
    "    cik: str,\n",
    "    form_type: str,\n",
    "    allow_amended_filing: Optional[bool] = True,\n",
    "    company: Optional[str] = None,\n",
    "    email: Optional[str] = None,\n",
    ") -> str:\n",
    "    \"\"\"For a given CIK, returns the most recent form of a given form_type. By default\n",
    "    an amended version of the form_type may be retrieved (allow_amended_filing=True).\n",
    "    E.g., if form_type is \"10-Q\", the retrived form could be a 10-Q or 10-Q/A.\n",
    "    \"\"\"\n",
    "    session = _get_session(company, email)\n",
    "    acc_num, _ = _get_recent_acc_num_by_cik(\n",
    "        session, cik, _form_types(form_type, allow_amended_filing)\n",
    "    )\n",
    "    text = _get_filing(session, cik, acc_num)\n",
    "    return text\n",
    "\n",
    "\n",
    "def open_form(cik, acc_num):\n",
    "    \"\"\"For a given cik and accession number, opens the index page in default browser for the\n",
    "    associated SEC form\"\"\"\n",
    "    acc_num = _drop_dashes(acc_num)\n",
    "    webbrowser.open_new_tab(f\"{SEC_ARCHIVE_URL}/{cik}/{acc_num}/{_add_dashes(acc_num)}-index.html\")\n",
    "\n",
    "\n",
    "def open_form_by_ticker(\n",
    "    ticker: str,\n",
    "    form_type: str,\n",
    "    allow_amended_filing: Optional[bool] = True,\n",
    "    company: Optional[str] = None,\n",
    "    email: Optional[str] = None,\n",
    "):\n",
    "    \"\"\"For a given ticker, opens the index page in default browser for the most recent form of a\n",
    "    given form_type.\"\"\"\n",
    "    session = _get_session(company, email)\n",
    "    cik = get_cik_by_ticker(session, ticker)\n",
    "    acc_num, _ = _get_recent_acc_num_by_cik(\n",
    "        session, cik, _form_types(form_type, allow_amended_filing)\n",
    "    )\n",
    "    open_form(cik, acc_num)\n",
    "\n",
    "\n",
    "def archive_url(cik: Union[str, int], accession_number: Union[str, int]) -> str:\n",
    "    \"\"\"Builds the archive URL for the SEC accession number. Looks for the .txt file for the\n",
    "    filing, while follows a {accession_number}.txt format.\"\"\"\n",
    "    filename = f\"{_add_dashes(accession_number)}.txt\"\n",
    "    accession_number = _drop_dashes(accession_number)\n",
    "    return f\"{SEC_ARCHIVE_URL}/{cik}/{accession_number}/{filename}\"\n",
    "\n",
    "\n",
    "def _search_url(cik: Union[str, int]) -> str:\n",
    "    search_string = f\"CIK={cik}&Find=Search&owner=exclude&action=getcompany\"\n",
    "    url = f\"{SEC_SEARCH_URL}?{search_string}\"\n",
    "    return url\n",
    "\n",
    "\n",
    "def _add_dashes(accession_number: Union[str, int]) -> str:\n",
    "    \"\"\"Adds the dashes back into the accession number\"\"\"\n",
    "    accession_number = str(accession_number)\n",
    "    return f\"{accession_number[:10]}-{accession_number[10:12]}-{accession_number[12:]}\"\n",
    "\n",
    "\n",
    "def _drop_dashes(accession_number: Union[str, int]) -> str:\n",
    "    \"\"\"Converts the accession number to the no dash representation.\"\"\"\n",
    "    accession_number = str(accession_number).replace(\"-\", \"\")\n",
    "    return accession_number.zfill(18)\n",
    "\n",
    "\n",
    "def _get_session(company: Optional[str] = None, email: Optional[str] = None) -> requests.Session:\n",
    "    \"\"\"Creates a requests sessions with the appropriate headers set. If these headers are not\n",
    "    set, SEC will reject your request.\n",
    "    ref: https://www.sec.gov/os/accessing-edgar-data\"\"\"\n",
    "    if company is None:\n",
    "        company = os.environ.get(\"SEC_API_ORGANIZATION\")\n",
    "    if email is None:\n",
    "        email = os.environ.get(\"SEC_API_EMAIL\")\n",
    "    assert company\n",
    "    assert email\n",
    "    session = requests.Session()\n",
    "    session.headers.update(\n",
    "        {\n",
    "            \"User-Agent\": f\"{company} {email}\",\n",
    "            \"Content-Type\": \"text/html\",\n",
    "        }\n",
    "    )\n",
    "    return session\n"
   ]
  },
  {
   "cell_type": "code",
   "execution_count": 2,
   "metadata": {},
   "outputs": [],
   "source": [
    "import json\n",
    "import os\n",
    "import re\n",
    "import requests\n",
    "from typing import List, Optional, Tuple, Union\n",
    "import sys"
   ]
  },
  {
   "cell_type": "code",
   "execution_count": 2,
   "metadata": {},
   "outputs": [],
   "source": [
    "text = get_form_by_ticker(\n",
    "    'aapl',\n",
    "    '10-K',\n",
    "    company='Unstructured Technologies',\n",
    "    email='support@unstructured.io'\n",
    ")"
   ]
  },
  {
   "cell_type": "markdown",
   "metadata": {},
   "source": [
    "## Cleaning up the .XML file"
   ]
  },
  {
   "cell_type": "code",
   "execution_count": 5,
   "metadata": {},
   "outputs": [],
   "source": [
    "from unstructured.documents.html import HTMLDocument\n",
    "\n",
    "html_document = HTMLDocument.from_string(text).doc_after_cleaners(skip_headers_and_footers=True, skip_table_text=True)\n"
   ]
  },
  {
   "cell_type": "code",
   "execution_count": 7,
   "metadata": {},
   "outputs": [
    {
     "data": {
      "text/plain": [
       "[<unstructured.documents.html.HTMLTitle at 0x17f1a9280>,\n",
       " <unstructured.documents.html.HTMLTitle at 0x17f1a9430>,\n",
       " <unstructured.documents.html.HTMLTitle at 0x17f1a9340>,\n",
       " <unstructured.documents.html.HTMLTitle at 0x17f1a9d60>,\n",
       " <unstructured.documents.html.HTMLTitle at 0x17f1a9ee0>,\n",
       " <unstructured.documents.html.HTMLText at 0x17f1a9f70>,\n",
       " <unstructured.documents.html.HTMLNarrativeText at 0x17f1a9eb0>,\n",
       " <unstructured.documents.html.HTMLTitle at 0x17f1a9fa0>,\n",
       " <unstructured.documents.html.HTMLText at 0x282668040>,\n",
       " <unstructured.documents.html.HTMLTitle at 0x17f1a9e50>,\n",
       " <unstructured.documents.html.HTMLTitle at 0x282668070>,\n",
       " <unstructured.documents.html.HTMLTitle at 0x2826680d0>,\n",
       " <unstructured.documents.html.HTMLText at 0x282668100>,\n",
       " <unstructured.documents.html.HTMLTitle at 0x282668130>,\n",
       " <unstructured.documents.html.HTMLNarrativeText at 0x2826682b0>,\n",
       " <unstructured.documents.html.HTMLText at 0x2826686d0>,\n",
       " <unstructured.documents.html.HTMLNarrativeText at 0x282668730>,\n",
       " <unstructured.documents.html.HTMLNarrativeText at 0x2826687c0>,\n",
       " <unstructured.documents.html.HTMLNarrativeText at 0x282681220>,\n",
       " <unstructured.documents.html.HTMLNarrativeText at 0x282681280>,\n",
       " <unstructured.documents.html.HTMLTitle at 0x2826812e0>,\n",
       " <unstructured.documents.html.HTMLTitle at 0x2826812b0>,\n",
       " <unstructured.documents.html.HTMLNarrativeText at 0x282681430>,\n",
       " <unstructured.documents.html.HTMLTitle at 0x282681400>,\n",
       " <unstructured.documents.html.HTMLTitle at 0x282681460>,\n",
       " <unstructured.documents.html.HTMLNarrativeText at 0x282681490>,\n",
       " <unstructured.documents.html.HTMLTitle at 0x2826815b0>,\n",
       " <unstructured.documents.html.HTMLTitle at 0x282681550>,\n",
       " <unstructured.documents.html.HTMLNarrativeText at 0x2826816d0>,\n",
       " <unstructured.documents.html.HTMLTitle at 0x2826816a0>,\n",
       " <unstructured.documents.html.HTMLTitle at 0x282681700>,\n",
       " <unstructured.documents.html.HTMLNarrativeText at 0x2826817f0>,\n",
       " <unstructured.documents.html.HTMLNarrativeText at 0x282681ac0>,\n",
       " <unstructured.documents.html.HTMLNarrativeText at 0x282681b50>,\n",
       " <unstructured.documents.html.HTMLNarrativeText at 0x282681b20>,\n",
       " <unstructured.documents.html.HTMLTitle at 0x282681c40>,\n",
       " <unstructured.documents.html.HTMLTitle at 0x282681be0>,\n",
       " <unstructured.documents.html.HTMLNarrativeText at 0x282681c10>,\n",
       " <unstructured.documents.html.HTMLNarrativeText at 0x282681cd0>,\n",
       " <unstructured.documents.html.HTMLNarrativeText at 0x282681dc0>,\n",
       " <unstructured.documents.html.HTMLNarrativeText at 0x282681e50>]"
      ]
     },
     "execution_count": 7,
     "metadata": {},
     "output_type": "execute_result"
    }
   ],
   "source": [
    "html_document.pages[0].elements[::]"
   ]
  },
  {
   "cell_type": "markdown",
   "metadata": {},
   "source": [
    "### Check to see if a section could be a title"
   ]
  },
  {
   "cell_type": "code",
   "execution_count": 8,
   "metadata": {},
   "outputs": [
    {
     "name": "stdout",
     "output_type": "stream",
     "text": [
      "Indicate by check mark if the Registrant is not required to file reports pursuant to Section 13 or Section 15(d) of the Act.\n"
     ]
    },
    {
     "data": {
      "text/plain": [
       "False"
      ]
     },
     "execution_count": 8,
     "metadata": {},
     "output_type": "execute_result"
    }
   ],
   "source": [
    "from unstructured.nlp.partition import is_possible_title\n",
    "\n",
    "#Getting the name of a title from the HTMLTitle object\n",
    "text_title = html_document.pages[0].elements[22].text\n",
    "\n",
    "print(text_title)\n",
    "\n",
    "#Check if that title could be a title or not\n",
    "is_possible_title(text_title)\n"
   ]
  },
  {
   "cell_type": "markdown",
   "metadata": {},
   "source": [
    "### Making bricks"
   ]
  },
  {
   "cell_type": "code",
   "execution_count": 9,
   "metadata": {},
   "outputs": [],
   "source": [
    "import re\n",
    "from unstructured.documents.elements import Title"
   ]
  },
  {
   "cell_type": "code",
   "execution_count": 10,
   "metadata": {},
   "outputs": [],
   "source": [
    "ITEM_TITLE_RE = re.compile(\n",
    "    r\"(?i)item \\d{1,3}(?:[a-z]|\\([a-z]\\))?(?:\\.)?(?::)?\"\n",
    ")"
   ]
  },
  {
   "cell_type": "code",
   "execution_count": 11,
   "metadata": {},
   "outputs": [],
   "source": [
    "def is_10k_item_title(title: str) -> bool:\n",
    "    \"\"\"Determines if a title corresponds to a 10-K item heading.\"\"\"\n",
    "    return ITEM_TITLE_RE.match(title) is not None"
   ]
  },
  {
   "cell_type": "code",
   "execution_count": 12,
   "metadata": {},
   "outputs": [
    {
     "name": "stdout",
     "output_type": "stream",
     "text": [
      "Item 1.    Business\n",
      "Item 1A.    Risk Factors\n",
      "Item 1B.    Unresolved Staff Comments\n",
      "Item 2.    Properties\n",
      "Item 3.    Legal Proceedings\n",
      "Item 4.    Mine Safety Disclosures\n",
      "Item 7.    Management’s Discussion and Analysis of Financial Condition and Results of Operations\n",
      "Item 7A.    Quantitative and Qualitative Disclosures About Market Risk\n",
      "Item 8.    Financial Statements and Supplementary Data\n",
      "Item 9.    Changes in and Disagreements with Accountants on Accounting and Financial Disclosure\n",
      "Item 9A.    Controls and Procedures\n",
      "Item 9B.    Other Information\n",
      "Item 9C.    Disclosure Regarding Foreign Jurisdictions that Prevent Inspections\n",
      "Item 10.    Directors, Executive Officers and Corporate Governance\n",
      "Item 11.    Executive Compensation\n",
      "Item 13.    Certain Relationships and Related Transactions, and Director Independence\n",
      "Item 14.    Principal Accountant Fees and Services\n",
      "Item 15.    Exhibit and Financial Statement Schedules\n",
      "Item 16.    Form 10-K Summary\n"
     ]
    }
   ],
   "source": [
    "for element in html_document.elements:\n",
    "    if isinstance(element, Title) and is_10k_item_title(element.text):\n",
    "        print(element)\n",
    "\n"
   ]
  },
  {
   "cell_type": "markdown",
   "metadata": {},
   "source": [
    "### Cleaning bricks"
   ]
  },
  {
   "cell_type": "code",
   "execution_count": 13,
   "metadata": {},
   "outputs": [],
   "source": [
    "from unstructured.cleaners.core import clean_extra_whitespace"
   ]
  },
  {
   "cell_type": "code",
   "execution_count": 14,
   "metadata": {},
   "outputs": [
    {
     "name": "stdout",
     "output_type": "stream",
     "text": [
      "Item 1. Business\n",
      "Item 1A. Risk Factors\n",
      "Item 1B. Unresolved Staff Comments\n",
      "Item 2. Properties\n",
      "Item 3. Legal Proceedings\n",
      "Item 4. Mine Safety Disclosures\n",
      "Item 7. Management’s Discussion and Analysis of Financial Condition and Results of Operations\n",
      "Item 7A. Quantitative and Qualitative Disclosures About Market Risk\n",
      "Item 8. Financial Statements and Supplementary Data\n",
      "Item 9. Changes in and Disagreements with Accountants on Accounting and Financial Disclosure\n",
      "Item 9A. Controls and Procedures\n",
      "Item 9B. Other Information\n",
      "Item 9C. Disclosure Regarding Foreign Jurisdictions that Prevent Inspections\n",
      "Item 10. Directors, Executive Officers and Corporate Governance\n",
      "Item 11. Executive Compensation\n",
      "Item 13. Certain Relationships and Related Transactions, and Director Independence\n",
      "Item 14. Principal Accountant Fees and Services\n",
      "Item 15. Exhibit and Financial Statement Schedules\n",
      "Item 16. Form 10-K Summary\n",
      "['Item 1. Business', 'Item 1A. Risk Factors', 'Item 1B. Unresolved Staff Comments', 'Item 2. Properties', 'Item 3. Legal Proceedings', 'Item 4. Mine Safety Disclosures', 'Item 7. Management’s Discussion and Analysis of Financial Condition and Results of Operations', 'Item 7A. Quantitative and Qualitative Disclosures About Market Risk', 'Item 8. Financial Statements and Supplementary Data', 'Item 9. Changes in and Disagreements with Accountants on Accounting and Financial Disclosure', 'Item 9A. Controls and Procedures', 'Item 9B. Other Information', 'Item 9C. Disclosure Regarding Foreign Jurisdictions that Prevent Inspections', 'Item 10. Directors, Executive Officers and Corporate Governance', 'Item 11. Executive Compensation', 'Item 13. Certain Relationships and Related Transactions, and Director Independence', 'Item 14. Principal Accountant Fees and Services', 'Item 15. Exhibit and Financial Statement Schedules', 'Item 16. Form 10-K Summary']\n"
     ]
    }
   ],
   "source": [
    "titles_names = []\n",
    "titles = []\n",
    "for element in html_document.elements:\n",
    "    element.text = clean_extra_whitespace(element.text)\n",
    "    if isinstance(element, Title) and is_10k_item_title(element.text):\n",
    "        titles.append(element)\n",
    "        titles_names.append(element.text)\n",
    "        print(element)\n",
    "\n",
    "print(titles_names)"
   ]
  },
  {
   "cell_type": "code",
   "execution_count": 15,
   "metadata": {},
   "outputs": [],
   "source": [
    "section_info = []\n",
    "for i, el in enumerate(html_document.elements):\n",
    "    if el.id == titles[0].id:\n",
    "        break\n",
    "first_title_index = i\n",
    "for i in range(first_title_index, first_title_index+30):\n",
    "    section_info.append(html_document.elements[i].text)\n"
   ]
  },
  {
   "cell_type": "code",
   "execution_count": 16,
   "metadata": {},
   "outputs": [],
   "source": [
    "#{type(el) for el in html_document.elements}"
   ]
  },
  {
   "cell_type": "markdown",
   "metadata": {},
   "source": [
    "### Using OpenAI"
   ]
  },
  {
   "cell_type": "code",
   "execution_count": 3,
   "metadata": {},
   "outputs": [],
   "source": [
    "import os\n",
    "import openai\n",
    "\n",
    "OPENAI_API_KEY = os.environ[\"OPENAI_API_KEY\"]\n"
   ]
  },
  {
   "cell_type": "code",
   "execution_count": 18,
   "metadata": {},
   "outputs": [],
   "source": [
    "def find_relevant_section(question, list_elements):\n",
    "    \"\"\"Use Open API to attempt to find what section is most relevant to answering a given question\n",
    "\n",
    "    Args:\n",
    "        question (String): The question to ask GPT\n",
    "        list_elements (list): A list of all the titles in the 10-K\n",
    "\n",
    "    Returns:\n",
    "        index (integer): The index in the list of the most relevant section\n",
    "    \"\"\"\n",
    "\n",
    "    human_template = f\"\"\"You are helping me answer questions about a 10-K document for me. Enclosed by the word START and END, I will give you a list of section titles from a 10-K. Each item in the list is a different section.\n",
    "    I will then give you a question, and you must tell me which section I am most likely to find the answer to that question.\n",
    "\n",
    "    Here is the 10-K data:\n",
    "    START\n",
    "    {list_elements}\n",
    "    END\n",
    "\n",
    "    This is the question: {question}\n",
    "\n",
    "    Which section is most relevant? Please only give me no text, and only give me the index of the section, with the first item of the list being index 0, that is the most relevant as a single integer. Give me a 1 or 2 digit integer.\n",
    "    \"\"\"\n",
    "\n",
    "    human_message_prompt = {\"role\": \"user\", \"content\": human_template}\n",
    "\n",
    "\n",
    "    out = openai.ChatCompletion.create(\n",
    "        model=\"gpt-3.5-turbo-16k\",\n",
    "        temperature=0,\n",
    "        messages=[\n",
    "            human_message_prompt,\n",
    "        ],\n",
    "        api_key=OPENAI_API_KEY\n",
    "    )\n",
    "    output = out[\"choices\"][0][\"message\"][\"content\"]\n",
    "\n",
    "    return output"
   ]
  },
  {
   "cell_type": "code",
   "execution_count": 19,
   "metadata": {},
   "outputs": [],
   "source": [
    "def get_answer(question, index):\n",
    "    \"\"\"Use Open API to attempt to get an answer to a question based off one section in the 10-K\n",
    "\n",
    "    Args:\n",
    "        question (String): The question to ask GPT\n",
    "        index (int): The index of the most relevant section\n",
    "\n",
    "    Returns:\n",
    "        answer (String): GPT's answer to the question\n",
    "    \"\"\"\n",
    "\n",
    "    #Getting the relevant section\n",
    "    section_info = []\n",
    "    start_index_elements = 0\n",
    "    end_index_elements = len(html_document.elements)\n",
    "    for i, el in enumerate(html_document.elements):\n",
    "        if el.id == titles[index].id:\n",
    "            start_index_elements = i\n",
    "        if el.id == titles[index+1].id:\n",
    "            end_index_elements = i\n",
    "            break\n",
    "    for i in range(start_index_elements, end_index_elements):\n",
    "        section_info.append(html_document.elements[i].text)\n",
    "\n",
    "    human_template = f\"\"\"You are analyzing a 10-K document for me. Enclosed by the word START and END, I will give you the data of the 10-K and you will answer a question based ONLY on information you find enclosed in the triple quotes, so you will use no outside information.\n",
    "    If you cannot find the answer to the question in the information provided, please tell me that you were unable to find an answer.\n",
    "\n",
    "    Here is the 10-K data:\n",
    "    START\n",
    "    {section_info}\n",
    "    END\n",
    "\n",
    "    This is the question: {question}\n",
    "    \"\"\"\n",
    "\n",
    "    human_message_prompt = {\"role\": \"user\", \"content\": human_template}\n",
    "\n",
    "\n",
    "    out = openai.ChatCompletion.create(\n",
    "        model=\"gpt-3.5-turbo-16k\",\n",
    "        temperature=0,\n",
    "        messages=[\n",
    "            human_message_prompt,\n",
    "        ],\n",
    "        api_key=OPENAI_API_KEY\n",
    "    )\n",
    "    answer = out[\"choices\"][0][\"message\"][\"content\"]\n",
    "\n",
    "    return answer\n"
   ]
  },
  {
   "cell_type": "code",
   "execution_count": 20,
   "metadata": {},
   "outputs": [],
   "source": [
    "def ask_gpt_question(question):\n",
    "    \"\"\"Uses the two functions to find the index, then query GPT to answer the question.\n",
    "\n",
    "    Args:\n",
    "        question (String): The question to ask GPT\n",
    "\n",
    "    Returns:\n",
    "        answer (String): GPT's answer to the question\n",
    "    \"\"\"\n",
    "\n",
    "\n",
    "    index = int(find_relevant_section(question, titles_names))\n",
    "\n",
    "    return get_answer(question, index)\n"
   ]
  },
  {
   "cell_type": "markdown",
   "metadata": {},
   "source": [
    "### Testing our function by asking it some questions"
   ]
  },
  {
   "cell_type": "code",
   "execution_count": 21,
   "metadata": {},
   "outputs": [
    {
     "name": "stdout",
     "output_type": "stream",
     "text": [
      "The company generates its revenue through the sale of various products and services. Its main products include iPhone, Mac, iPad, and Wearables, Home and Accessories. Its main services include advertising, AppleCare, cloud services, digital content, payment services, and other services.\n"
     ]
    }
   ],
   "source": [
    "print(ask_gpt_question(\"How does the company generate its revenue? What are its main products or services?\"))"
   ]
  },
  {
   "cell_type": "code",
   "execution_count": 22,
   "metadata": {},
   "outputs": [
    {
     "name": "stdout",
     "output_type": "stream",
     "text": [
      "The primary risks and uncertainties the company faces include:\n",
      "\n",
      "1. Macroeconomic and Industry Risks: Adverse economic conditions, such as inflation, slower growth or recession, new or increased tariffs, changes to fiscal and monetary policy, tighter credit, higher interest rates, high unemployment, and currency fluctuations can adversely impact consumer confidence and spending, leading to a decline in demand for the company's products and services. Uncertainty and decline in global or regional economic conditions can also impact the company's suppliers, contract manufacturers, logistics providers, distributors, and other channel partners, leading to financial instability, reduced liquidity, and declines in the fair value of the company's financial instruments.\n",
      "\n",
      "2. Impact of COVID-19 Pandemic: The COVID-19 pandemic has significantly impacted global economic activity and caused volatility and disruption in global financial markets. The pandemic has disrupted the company's supply chain, resulting in supply shortages and affecting sales worldwide. Public safety measures and reduced consumer demand in affected areas have also adversely impacted the company's products and services. The extent of the impact on the company's operational and financial performance remains uncertain and depends on factors such as the trajectory and duration of the pandemic, the emergence of new variants, the availability and effectiveness of vaccines and treatments, and the impact of the pandemic on the global economy and demand for consumer products and services.\n",
      "\n",
      "3. Political Events, Trade Disputes, and Business Interruptions: Political events, trade disputes, war, terrorism, natural disasters, public health issues, industrial accidents, and other business interruptions can harm or disrupt international commerce and the global economy, adversely affecting the company and its customers, suppliers, contract manufacturers, logistics providers, distributors, and other channel partners. Trade policies, tariffs, and other measures that restrict international trade can materially adversely affect the company's business, particularly in regions where it derives a significant portion of its revenues and has significant supply chain operations.\n",
      "\n",
      "4. Design and Manufacturing Defects: The company's products and services can be affected by design and manufacturing defects, which can interfere with the intended operation of hardware or software products and result in product liability claims, recalls, product replacements or modifications, write-offs, and significant warranty and other expenses. Quality problems can also harm the company's reputation, reduce market acceptance, and result in lost sales.\n",
      "\n",
      "5. Fluctuations in Foreign Currency Exchange Rates: The company's financial performance is subject to risks associated with changes in the value of the U.S. dollar relative to local currencies. Weakening foreign currencies can adversely affect the U.S. dollar value of the company's foreign currency-denominated sales and earnings, while strengthening foreign currencies can reduce international pricing and increase the cost of product components denominated in those currencies, impacting gross margins.\n",
      "\n",
      "These risks and uncertainties can impact the company's future performance by affecting demand for its products and services, increasing costs, disrupting the supply chain, damaging its reputation, reducing market acceptance, and leading to financial losses. The company's ability to effectively manage and mitigate these risks will be crucial in determining its future success.\n"
     ]
    }
   ],
   "source": [
    "print(ask_gpt_question(\"What are the primary risks and uncertainties the company faces? How might they impact its future performance?\"))"
   ]
  },
  {
   "cell_type": "code",
   "execution_count": 23,
   "metadata": {},
   "outputs": [
    {
     "name": "stdout",
     "output_type": "stream",
     "text": [
      "I am sorry, but I was unable to find an answer to your question in the provided information.\n"
     ]
    }
   ],
   "source": [
    "print(ask_gpt_question(\"What are the company's strategic priorities and growth prospects?\"))"
   ]
  },
  {
   "cell_type": "code",
   "execution_count": 24,
   "metadata": {},
   "outputs": [
    {
     "name": "stdout",
     "output_type": "stream",
     "text": [
      "I'm sorry, but I was unable to find an answer to your question in the provided information.\n"
     ]
    }
   ],
   "source": [
    "print(ask_gpt_question(\"Does the company operate in multiple geographic regions or industries?\"))"
   ]
  },
  {
   "cell_type": "code",
   "execution_count": 25,
   "metadata": {},
   "outputs": [],
   "source": [
    "import sklearn\n",
    "from sklearn.feature_extraction.text import TfidfVectorizer\n",
    "from sklearn.metrics.pairwise import cosine_similarity\n",
    "\n",
    "def compare_strings(text1, text2):\n",
    "    vectorizer = TfidfVectorizer()\n",
    "    vectors = vectorizer.fit_transform([text1, text2])\n",
    "    # Calculate the cosine similarity between the vectors\n",
    "    similarity = cosine_similarity(vectors)\n",
    "    print(similarity)\n"
   ]
  },
  {
   "cell_type": "code",
   "execution_count": 26,
   "metadata": {},
   "outputs": [
    {
     "name": "stdout",
     "output_type": "stream",
     "text": [
      "[[1. 1.]\n",
      " [1. 1.]]\n",
      "None\n"
     ]
    }
   ],
   "source": [
    "print(compare_strings(\"hello\", \"hello\"))"
   ]
  },
  {
   "cell_type": "markdown",
   "metadata": {},
   "source": [
    "## Trying to fine tune the model"
   ]
  },
  {
   "cell_type": "code",
   "execution_count": 4,
   "metadata": {},
   "outputs": [],
   "source": [
    "#openai.api_key = os.getenv(\"OPENAI_API_KEY\")\n",
    "\n",
    "openai.api_key = os.environ[\"OPENAI_API_KEY\"]"
   ]
  },
  {
   "cell_type": "code",
   "execution_count": 6,
   "metadata": {},
   "outputs": [
    {
     "name": "stdout",
     "output_type": "stream",
     "text": [
      "File successfully uploaded with ID: file-G66jFKJJLR4twLoGEfQsTV9M\n"
     ]
    }
   ],
   "source": [
    "#WORKING VERSION\n",
    "#response = openai.File.create(\n",
    "#  file=open(\"newtest.jsonl\", \"rb\"),\n",
    "#  purpose='fine-tune',\n",
    "#  user_provided_filename=\"train\"\n",
    "#)\n",
    "\n",
    "response = openai.File.create(\n",
    "  file=open(\"./openaitest2.jsonl\", \"rb\"),\n",
    "  purpose='fine-tune',\n",
    "  user_provided_filename=\"train\"\n",
    ")\n",
    "\n",
    "file_id = response['id']\n",
    "print(f\"File successfully uploaded with ID: {file_id}\")\n"
   ]
  },
  {
   "cell_type": "code",
   "execution_count": 7,
   "metadata": {},
   "outputs": [
    {
     "data": {
      "text/plain": [
       "<OpenAIObject list at 0x110319630> JSON: {\n",
       "  \"object\": \"list\",\n",
       "  \"data\": [\n",
       "    {\n",
       "      \"object\": \"fine_tuning.job\",\n",
       "      \"id\": \"ftjob-0HFEZZwlI6vi3qWZeyhg20q9\",\n",
       "      \"model\": \"gpt-3.5-turbo-0613\",\n",
       "      \"created_at\": 1696364522,\n",
       "      \"finished_at\": 1696372683,\n",
       "      \"fine_tuned_model\": \"ft:gpt-3.5-turbo-0613:personal:sarcastic-test:85iJgAnK\",\n",
       "      \"organization_id\": \"org-WM0C8DmpfiXb4ySIeUGFLcf2\",\n",
       "      \"result_files\": [\n",
       "        \"file-IsvRuCmyqbnsDU0LyU2KGDxy\"\n",
       "      ],\n",
       "      \"status\": \"succeeded\",\n",
       "      \"validation_file\": null,\n",
       "      \"training_file\": \"file-Sa73VHGZQEbjcYJUyeC5A83W\",\n",
       "      \"hyperparameters\": {\n",
       "        \"n_epochs\": 10\n",
       "      },\n",
       "      \"trained_tokens\": 4670,\n",
       "      \"error\": null\n",
       "    },\n",
       "    {\n",
       "      \"object\": \"fine_tuning.job\",\n",
       "      \"id\": \"ftjob-yHdajmDdWXOXYX5DdAXtFPBc\",\n",
       "      \"model\": \"gpt-3.5-turbo-0613\",\n",
       "      \"created_at\": 1696363691,\n",
       "      \"finished_at\": 1696371854,\n",
       "      \"fine_tuned_model\": \"ft:gpt-3.5-turbo-0613:personal::85i6JinG\",\n",
       "      \"organization_id\": \"org-WM0C8DmpfiXb4ySIeUGFLcf2\",\n",
       "      \"result_files\": [\n",
       "        \"file-MmR1Qth7uohfl43eonCJKWGZ\"\n",
       "      ],\n",
       "      \"status\": \"succeeded\",\n",
       "      \"validation_file\": null,\n",
       "      \"training_file\": \"file-Sa73VHGZQEbjcYJUyeC5A83W\",\n",
       "      \"hyperparameters\": {\n",
       "        \"n_epochs\": 10\n",
       "      },\n",
       "      \"trained_tokens\": 4670,\n",
       "      \"error\": null\n",
       "    },\n",
       "    {\n",
       "      \"object\": \"fine_tuning.job\",\n",
       "      \"id\": \"ftjob-lsYZxRIT9M7VMDdbo6Wi05RP\",\n",
       "      \"model\": \"gpt-3.5-turbo-0613\",\n",
       "      \"created_at\": 1696363005,\n",
       "      \"finished_at\": null,\n",
       "      \"fine_tuned_model\": null,\n",
       "      \"organization_id\": \"org-WM0C8DmpfiXb4ySIeUGFLcf2\",\n",
       "      \"result_files\": [],\n",
       "      \"status\": \"failed\",\n",
       "      \"validation_file\": null,\n",
       "      \"training_file\": \"file-bjQhoJdSZIGDWTqBNfsergmP\",\n",
       "      \"hyperparameters\": {\n",
       "        \"n_epochs\": \"auto\"\n",
       "      },\n",
       "      \"trained_tokens\": null,\n",
       "      \"error\": {\n",
       "        \"code\": \"invalid_n_examples\",\n",
       "        \"param\": \"training_file\",\n",
       "        \"message\": \"Training file has 3 example(s), but must have at least 10 examples\"\n",
       "      }\n",
       "    },\n",
       "    {\n",
       "      \"object\": \"fine_tuning.job\",\n",
       "      \"id\": \"ftjob-E4thuCueknlS3kjWsuYF2Vpw\",\n",
       "      \"model\": \"gpt-3.5-turbo-0613\",\n",
       "      \"created_at\": 1696310565,\n",
       "      \"finished_at\": 1696311001,\n",
       "      \"fine_tuned_model\": \"ft:gpt-3.5-turbo-0613:personal:anote:85SGpKuh\",\n",
       "      \"organization_id\": \"org-WM0C8DmpfiXb4ySIeUGFLcf2\",\n",
       "      \"result_files\": [\n",
       "        \"file-ffOBRiH1mTybG98WzAMmIYPR\"\n",
       "      ],\n",
       "      \"status\": \"succeeded\",\n",
       "      \"validation_file\": null,\n",
       "      \"training_file\": \"file-tOTfoocOZ8qlENC9Go7pg7N4\",\n",
       "      \"hyperparameters\": {\n",
       "        \"n_epochs\": 10\n",
       "      },\n",
       "      \"trained_tokens\": 5790,\n",
       "      \"error\": null\n",
       "    },\n",
       "    {\n",
       "      \"object\": \"fine_tuning.job\",\n",
       "      \"id\": \"ftjob-wQIaooIlV5uWiuHEoQdKvhaA\",\n",
       "      \"model\": \"gpt-3.5-turbo-0613\",\n",
       "      \"created_at\": 1696310394,\n",
       "      \"finished_at\": 1696310865,\n",
       "      \"fine_tuned_model\": \"ft:gpt-3.5-turbo-0613:personal:anote:85SEsyyn\",\n",
       "      \"organization_id\": \"org-WM0C8DmpfiXb4ySIeUGFLcf2\",\n",
       "      \"result_files\": [\n",
       "        \"file-p6iewcAupE7pDPNTGqetyP4L\"\n",
       "      ],\n",
       "      \"status\": \"succeeded\",\n",
       "      \"validation_file\": null,\n",
       "      \"training_file\": \"file-tOTfoocOZ8qlENC9Go7pg7N4\",\n",
       "      \"hyperparameters\": {\n",
       "        \"n_epochs\": 10\n",
       "      },\n",
       "      \"trained_tokens\": 5790,\n",
       "      \"error\": null\n",
       "    },\n",
       "    {\n",
       "      \"object\": \"fine_tuning.job\",\n",
       "      \"id\": \"ftjob-jSb8bHOr1YMTDz61wUE73bjn\",\n",
       "      \"model\": \"gpt-3.5-turbo-0613\",\n",
       "      \"created_at\": 1696310132,\n",
       "      \"finished_at\": 1696310541,\n",
       "      \"fine_tuned_model\": \"ft:gpt-3.5-turbo-0613:personal::85SATHkr\",\n",
       "      \"organization_id\": \"org-WM0C8DmpfiXb4ySIeUGFLcf2\",\n",
       "      \"result_files\": [\n",
       "        \"file-CnRrSuhkz1InXlFj1u0ApwMQ\"\n",
       "      ],\n",
       "      \"status\": \"succeeded\",\n",
       "      \"validation_file\": null,\n",
       "      \"training_file\": \"file-tOTfoocOZ8qlENC9Go7pg7N4\",\n",
       "      \"hyperparameters\": {\n",
       "        \"n_epochs\": 10\n",
       "      },\n",
       "      \"trained_tokens\": 5790,\n",
       "      \"error\": null\n",
       "    },\n",
       "    {\n",
       "      \"object\": \"fine_tuning.job\",\n",
       "      \"id\": \"ftjob-ZeHOx5j2cP3EM6NB46eRkKxO\",\n",
       "      \"model\": \"gpt-3.5-turbo-0613\",\n",
       "      \"created_at\": 1696309877,\n",
       "      \"finished_at\": 1696310280,\n",
       "      \"fine_tuned_model\": \"ft:gpt-3.5-turbo-0613:personal::85S5Lful\",\n",
       "      \"organization_id\": \"org-WM0C8DmpfiXb4ySIeUGFLcf2\",\n",
       "      \"result_files\": [\n",
       "        \"file-QAVgmVHYZYC30DWM3eJEGse2\"\n",
       "      ],\n",
       "      \"status\": \"succeeded\",\n",
       "      \"validation_file\": null,\n",
       "      \"training_file\": \"file-tOTfoocOZ8qlENC9Go7pg7N4\",\n",
       "      \"hyperparameters\": {\n",
       "        \"n_epochs\": 10\n",
       "      },\n",
       "      \"trained_tokens\": 5790,\n",
       "      \"error\": null\n",
       "    },\n",
       "    {\n",
       "      \"object\": \"fine_tuning.job\",\n",
       "      \"id\": \"ftjob-1yNylAqSPWvruK4s4qMBktUl\",\n",
       "      \"model\": \"gpt-3.5-turbo-0613\",\n",
       "      \"created_at\": 1696309846,\n",
       "      \"finished_at\": 1696310238,\n",
       "      \"fine_tuned_model\": \"ft:gpt-3.5-turbo-0613:personal::85S4xHp1\",\n",
       "      \"organization_id\": \"org-WM0C8DmpfiXb4ySIeUGFLcf2\",\n",
       "      \"result_files\": [\n",
       "        \"file-6EEBitqyTBB1si9m0ecqAZxT\"\n",
       "      ],\n",
       "      \"status\": \"succeeded\",\n",
       "      \"validation_file\": null,\n",
       "      \"training_file\": \"file-tOTfoocOZ8qlENC9Go7pg7N4\",\n",
       "      \"hyperparameters\": {\n",
       "        \"n_epochs\": 10\n",
       "      },\n",
       "      \"trained_tokens\": 5790,\n",
       "      \"error\": null\n",
       "    },\n",
       "    {\n",
       "      \"object\": \"fine_tuning.job\",\n",
       "      \"id\": \"ftjob-fb98PTi3qYfBTQYGgadC69VA\",\n",
       "      \"model\": \"gpt-3.5-turbo-0613\",\n",
       "      \"created_at\": 1696309355,\n",
       "      \"finished_at\": 1696310117,\n",
       "      \"fine_tuned_model\": \"ft:gpt-3.5-turbo-0613:personal::85S3AYVL\",\n",
       "      \"organization_id\": \"org-WM0C8DmpfiXb4ySIeUGFLcf2\",\n",
       "      \"result_files\": [\n",
       "        \"file-IExwe5X1JRfFDOJGUynKVwtU\"\n",
       "      ],\n",
       "      \"status\": \"succeeded\",\n",
       "      \"validation_file\": null,\n",
       "      \"training_file\": \"file-tOTfoocOZ8qlENC9Go7pg7N4\",\n",
       "      \"hyperparameters\": {\n",
       "        \"n_epochs\": 10\n",
       "      },\n",
       "      \"trained_tokens\": 5790,\n",
       "      \"error\": null\n",
       "    },\n",
       "    {\n",
       "      \"object\": \"fine_tuning.job\",\n",
       "      \"id\": \"ftjob-QjS8Z2wlYpJHywm1LcEp4I9y\",\n",
       "      \"model\": \"gpt-3.5-turbo-0613\",\n",
       "      \"created_at\": 1695771205,\n",
       "      \"finished_at\": null,\n",
       "      \"fine_tuned_model\": null,\n",
       "      \"organization_id\": \"org-WM0C8DmpfiXb4ySIeUGFLcf2\",\n",
       "      \"result_files\": [],\n",
       "      \"status\": \"failed\",\n",
       "      \"validation_file\": null,\n",
       "      \"training_file\": \"file-9PxUFxqw2f9GK0p27KlUivZB\",\n",
       "      \"hyperparameters\": {\n",
       "        \"n_epochs\": \"auto\"\n",
       "      },\n",
       "      \"trained_tokens\": null,\n",
       "      \"error\": {\n",
       "        \"code\": \"invalid_n_examples\",\n",
       "        \"param\": \"training_file\",\n",
       "        \"message\": \"Training file has 5 example(s), but must have at least 10 examples\"\n",
       "      }\n",
       "    },\n",
       "    {\n",
       "      \"object\": \"fine_tuning.job\",\n",
       "      \"id\": \"ftjob-J5u6waEh6yBnaNr8hTHsFQdC\",\n",
       "      \"model\": \"gpt-3.5-turbo-0613\",\n",
       "      \"created_at\": 1695769609,\n",
       "      \"finished_at\": null,\n",
       "      \"fine_tuned_model\": null,\n",
       "      \"organization_id\": \"org-WM0C8DmpfiXb4ySIeUGFLcf2\",\n",
       "      \"result_files\": [],\n",
       "      \"status\": \"failed\",\n",
       "      \"validation_file\": null,\n",
       "      \"training_file\": \"file-rM7jUv9hku5NUxNtbkx5P9mZ\",\n",
       "      \"hyperparameters\": {\n",
       "        \"n_epochs\": \"auto\"\n",
       "      },\n",
       "      \"trained_tokens\": null,\n",
       "      \"error\": {\n",
       "        \"code\": \"invalid_training_file\",\n",
       "        \"param\": \"training_file\",\n",
       "        \"message\": \"The job failed due to an invalid training file\"\n",
       "      }\n",
       "    }\n",
       "  ],\n",
       "  \"has_more\": false\n",
       "}"
      ]
     },
     "execution_count": 7,
     "metadata": {},
     "output_type": "execute_result"
    }
   ],
   "source": [
    "#check file status\n",
    "openai.FineTuningJob.list()"
   ]
  },
  {
   "cell_type": "code",
   "execution_count": 8,
   "metadata": {},
   "outputs": [
    {
     "name": "stdout",
     "output_type": "stream",
     "text": [
      "Fine-tuning job created successfully with ID: ftjob-Pkd9Q8ulAtB7EbbTc6aY58Gd\n"
     ]
    }
   ],
   "source": [
    "response_finetuned = openai.FineTuningJob.create(\n",
    "    training_file=file_id,\n",
    "    model=\"gpt-3.5-turbo\",\n",
    "    suffix=\"anote\") \n",
    "\n",
    "job_id = response_finetuned['id']\n",
    "\n",
    "print(f\"Fine-tuning job created successfully with ID: {job_id}\")"
   ]
  },
  {
   "cell_type": "code",
   "execution_count": 13,
   "metadata": {},
   "outputs": [
    {
     "name": "stdout",
     "output_type": "stream",
     "text": [
      "{\n",
      "  \"object\": \"fine_tuning.job\",\n",
      "  \"id\": \"ftjob-Pkd9Q8ulAtB7EbbTc6aY58Gd\",\n",
      "  \"model\": \"gpt-3.5-turbo-0613\",\n",
      "  \"created_at\": 1696987687,\n",
      "  \"finished_at\": 1696988031,\n",
      "  \"fine_tuned_model\": \"ft:gpt-3.5-turbo-0613:personal:anote:88IOfgTc\",\n",
      "  \"organization_id\": \"org-WM0C8DmpfiXb4ySIeUGFLcf2\",\n",
      "  \"result_files\": [\n",
      "    \"file-JgFfEm2h25wvVh3nELM9kcvX\"\n",
      "  ],\n",
      "  \"status\": \"succeeded\",\n",
      "  \"validation_file\": null,\n",
      "  \"training_file\": \"file-G66jFKJJLR4twLoGEfQsTV9M\",\n",
      "  \"hyperparameters\": {\n",
      "    \"n_epochs\": 10\n",
      "  },\n",
      "  \"trained_tokens\": 52840,\n",
      "  \"error\": null\n",
      "}\n",
      "Fine-tuned model id: ft:gpt-3.5-turbo-0613:personal:anote:88IOfgTc\n"
     ]
    }
   ],
   "source": [
    "# Retrieve the state of a fine-tune\n",
    "retrieve_job = openai.FineTuningJob.retrieve(job_id)\n",
    "print(retrieve_job)\n",
    "\n",
    "\n",
    "fine_tuned_model_id = retrieve_job[\"fine_tuned_model\"]\n",
    "print(f\"Fine-tuned model id: {fine_tuned_model_id}\")\n",
    "\n"
   ]
  },
  {
   "cell_type": "markdown",
   "metadata": {},
   "source": [
    "For future reference: model trained on sarcastic data has model id: ft:gpt-3.5-turbo-0613:personal:anote:85SGpKuh\n",
    "Model trained on just apple dataset: ft:gpt-3.5-turbo-0613:personal:anote:88IOfgTc"
   ]
  },
  {
   "cell_type": "code",
   "execution_count": null,
   "metadata": {},
   "outputs": [],
   "source": []
  },
  {
   "cell_type": "code",
   "execution_count": 4,
   "metadata": {},
   "outputs": [
    {
     "name": "stdout",
     "output_type": "stream",
     "text": [
      "{\n",
      "  \"role\": \"assistant\",\n",
      "  \"content\": \"According to the information provided in the 10-K, Apple typically experiences higher net sales in its first quarter compared to other quarters in its fiscal year due in part to seasonal holiday demand.\"\n",
      "}\n"
     ]
    }
   ],
   "source": [
    "completion = openai.ChatCompletion.create(\n",
    "  model=\"gpt-3.5-turbo\",\n",
    "  messages=[\n",
    "    {\"role\": \"system\", \"content\": \"You are a factual chatbot that answers questions about 10-K documents. You only answer with answers you find in the text, no outside information.\"},\n",
    "    {\"role\": \"user\", \"content\": \"This is our information from the 10-K: Business Seasonality and Product IntroductionsThe Company has historically experienced higher net sales in its ﬁrst quarter compared to other quarters in its ﬁscal year due in part toseasonal holiday demand. Additionally, new product and service introductions can signiﬁcantly impact net sales, cost of sales andoperating expenses. The timing of product introductions can also impact the Company’s net sales to its indirect distribution channels asthese channels are ﬁlled with new inventory following a product launch, and channel inventory of an older product often declines as thelaunch of a newer product approaches. Net sales can also be affected when consumers and distributors anticipate a productintroduction.Human CapitalThe Company believes it has a talented, motivated and dedicated team, and works to create an inclusive, safe and supportiveenvironment for all of its team members. As of September 24, 2022, the Company had approximately 164,000 full-time equivalentemployees.Workplace Practices and PoliciesThe Company is an equal opportunity employer committed to inclusion and diversity and to providing a workplace free of harassment ordiscrimination.Compensation and BeneﬁtsThe Company believes that compensation should be competitive and equitable, and should enable employees to share in theCompany’s success. The Company recognizes its people are most likely to thrive when they have the resources to meet their needs andthe time and support to succeed in their professional and personal lives. In support of this, the Company offers a wide variety of beneﬁtsfor employees around the world and invests in tools and resources that are designed to support employees’ individual growth anddevelopment.Inclusion and DiversityThe Company remains committed to its vision to build and sustain a more inclusive workforce that is representative of the communities itserves. The Company continues to work to increase diverse representation at every level, foster an inclusive culture, and. Now, this is our question: Which quarter does Apple usually have higher net sales in?\"}\n",
    "  ]\n",
    ")\n",
    "print(completion.choices[0].message)"
   ]
  },
  {
   "cell_type": "code",
   "execution_count": 5,
   "metadata": {},
   "outputs": [
    {
     "ename": "NameError",
     "evalue": "name 'fine_tuned_model_id' is not defined",
     "output_type": "error",
     "traceback": [
      "\u001b[0;31m---------------------------------------------------------------------------\u001b[0m",
      "\u001b[0;31mNameError\u001b[0m                                 Traceback (most recent call last)",
      "\u001b[1;32m/Users/EdenChung/Desktop/Eden/Home/Coding/Projects/AnoteML/Exploration notebooks/10K_GPT.ipynb Cell 40\u001b[0m line \u001b[0;36m2\n\u001b[1;32m      <a href='vscode-notebook-cell:/Users/EdenChung/Desktop/Eden/Home/Coding/Projects/AnoteML/Exploration%20notebooks/10K_GPT.ipynb#X54sZmlsZQ%3D%3D?line=0'>1</a>\u001b[0m completion \u001b[39m=\u001b[39m openai\u001b[39m.\u001b[39mChatCompletion\u001b[39m.\u001b[39mcreate(\n\u001b[0;32m----> <a href='vscode-notebook-cell:/Users/EdenChung/Desktop/Eden/Home/Coding/Projects/AnoteML/Exploration%20notebooks/10K_GPT.ipynb#X54sZmlsZQ%3D%3D?line=1'>2</a>\u001b[0m   model\u001b[39m=\u001b[39mfine_tuned_model_id,\n\u001b[1;32m      <a href='vscode-notebook-cell:/Users/EdenChung/Desktop/Eden/Home/Coding/Projects/AnoteML/Exploration%20notebooks/10K_GPT.ipynb#X54sZmlsZQ%3D%3D?line=2'>3</a>\u001b[0m   messages\u001b[39m=\u001b[39m[\n\u001b[1;32m      <a href='vscode-notebook-cell:/Users/EdenChung/Desktop/Eden/Home/Coding/Projects/AnoteML/Exploration%20notebooks/10K_GPT.ipynb#X54sZmlsZQ%3D%3D?line=3'>4</a>\u001b[0m     {\u001b[39m\"\u001b[39m\u001b[39mrole\u001b[39m\u001b[39m\"\u001b[39m: \u001b[39m\"\u001b[39m\u001b[39msystem\u001b[39m\u001b[39m\"\u001b[39m, \u001b[39m\"\u001b[39m\u001b[39mcontent\u001b[39m\u001b[39m\"\u001b[39m: \u001b[39m\"\u001b[39m\u001b[39mYou are a factual chatbot that answers questions about 10-K documents. You only answer with answers you find in the text, no outside information.\u001b[39m\u001b[39m\"\u001b[39m},\n\u001b[1;32m      <a href='vscode-notebook-cell:/Users/EdenChung/Desktop/Eden/Home/Coding/Projects/AnoteML/Exploration%20notebooks/10K_GPT.ipynb#X54sZmlsZQ%3D%3D?line=4'>5</a>\u001b[0m     {\u001b[39m\"\u001b[39m\u001b[39mrole\u001b[39m\u001b[39m\"\u001b[39m: \u001b[39m\"\u001b[39m\u001b[39muser\u001b[39m\u001b[39m\"\u001b[39m, \u001b[39m\"\u001b[39m\u001b[39mcontent\u001b[39m\u001b[39m\"\u001b[39m: \u001b[39m\"\u001b[39m\u001b[39mThis is our information from the 10-K: Business Seasonality and Product IntroductionsThe Company has historically experienced higher net sales in its ﬁrst quarter compared to other quarters in its ﬁscal year due in part toseasonal holiday demand. Additionally, new product and service introductions can signiﬁcantly impact net sales, cost of sales andoperating expenses. The timing of product introductions can also impact the Company’s net sales to its indirect distribution channels asthese channels are ﬁlled with new inventory following a product launch, and channel inventory of an older product often declines as thelaunch of a newer product approaches. Net sales can also be affected when consumers and distributors anticipate a productintroduction.Human CapitalThe Company believes it has a talented, motivated and dedicated team, and works to create an inclusive, safe and supportiveenvironment for all of its team members. As of September 24, 2022, the Company had approximately 164,000 full-time equivalentemployees.Workplace Practices and PoliciesThe Company is an equal opportunity employer committed to inclusion and diversity and to providing a workplace free of harassment ordiscrimination.Compensation and BeneﬁtsThe Company believes that compensation should be competitive and equitable, and should enable employees to share in theCompany’s success. The Company recognizes its people are most likely to thrive when they have the resources to meet their needs andthe time and support to succeed in their professional and personal lives. In support of this, the Company offers a wide variety of beneﬁtsfor employees around the world and invests in tools and resources that are designed to support employees’ individual growth anddevelopment.Inclusion and DiversityThe Company remains committed to its vision to build and sustain a more inclusive workforce that is representative of the communities itserves. The Company continues to work to increase diverse representation at every level, foster an inclusive culture, and. Now, this is our question: Which quarter does Apple usually have higher net sales in?\u001b[39m\u001b[39m\"\u001b[39m}\n\u001b[1;32m      <a href='vscode-notebook-cell:/Users/EdenChung/Desktop/Eden/Home/Coding/Projects/AnoteML/Exploration%20notebooks/10K_GPT.ipynb#X54sZmlsZQ%3D%3D?line=5'>6</a>\u001b[0m   ]\n\u001b[1;32m      <a href='vscode-notebook-cell:/Users/EdenChung/Desktop/Eden/Home/Coding/Projects/AnoteML/Exploration%20notebooks/10K_GPT.ipynb#X54sZmlsZQ%3D%3D?line=6'>7</a>\u001b[0m )\n\u001b[1;32m      <a href='vscode-notebook-cell:/Users/EdenChung/Desktop/Eden/Home/Coding/Projects/AnoteML/Exploration%20notebooks/10K_GPT.ipynb#X54sZmlsZQ%3D%3D?line=7'>8</a>\u001b[0m \u001b[39mprint\u001b[39m(completion\u001b[39m.\u001b[39mchoices[\u001b[39m0\u001b[39m]\u001b[39m.\u001b[39mmessage)\n",
      "\u001b[0;31mNameError\u001b[0m: name 'fine_tuned_model_id' is not defined"
     ]
    }
   ],
   "source": [
    "completion = openai.ChatCompletion.create(\n",
    "  model=fine_tuned_model_id,\n",
    "  messages=[\n",
    "    {\"role\": \"system\", \"content\": \"You are a factual chatbot that answers questions about 10-K documents. You only answer with answers you find in the text, no outside information.\"},\n",
    "    {\"role\": \"user\", \"content\": \"This is our information from the 10-K: Business Seasonality and Product IntroductionsThe Company has historically experienced higher net sales in its ﬁrst quarter compared to other quarters in its ﬁscal year due in part toseasonal holiday demand. Additionally, new product and service introductions can signiﬁcantly impact net sales, cost of sales andoperating expenses. The timing of product introductions can also impact the Company’s net sales to its indirect distribution channels asthese channels are ﬁlled with new inventory following a product launch, and channel inventory of an older product often declines as thelaunch of a newer product approaches. Net sales can also be affected when consumers and distributors anticipate a productintroduction.Human CapitalThe Company believes it has a talented, motivated and dedicated team, and works to create an inclusive, safe and supportiveenvironment for all of its team members. As of September 24, 2022, the Company had approximately 164,000 full-time equivalentemployees.Workplace Practices and PoliciesThe Company is an equal opportunity employer committed to inclusion and diversity and to providing a workplace free of harassment ordiscrimination.Compensation and BeneﬁtsThe Company believes that compensation should be competitive and equitable, and should enable employees to share in theCompany’s success. The Company recognizes its people are most likely to thrive when they have the resources to meet their needs andthe time and support to succeed in their professional and personal lives. In support of this, the Company offers a wide variety of beneﬁtsfor employees around the world and invests in tools and resources that are designed to support employees’ individual growth anddevelopment.Inclusion and DiversityThe Company remains committed to its vision to build and sustain a more inclusive workforce that is representative of the communities itserves. The Company continues to work to increase diverse representation at every level, foster an inclusive culture, and. Now, this is our question: Which quarter does Apple usually have higher net sales in?\"}\n",
    "  ]\n",
    ")\n",
    "print(completion.choices[0].message)"
   ]
  },
  {
   "cell_type": "code",
   "execution_count": null,
   "metadata": {},
   "outputs": [],
   "source": []
  }
 ],
 "metadata": {
  "kernelspec": {
   "display_name": "machine_learning",
   "language": "python",
   "name": "python3"
  },
  "language_info": {
   "codemirror_mode": {
    "name": "ipython",
    "version": 3
   },
   "file_extension": ".py",
   "mimetype": "text/x-python",
   "name": "python",
   "nbconvert_exporter": "python",
   "pygments_lexer": "ipython3",
   "version": "3.9.7"
  },
  "orig_nbformat": 4
 },
 "nbformat": 4,
 "nbformat_minor": 2
}
