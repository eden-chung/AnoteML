{
 "cells": [
  {
   "cell_type": "code",
   "execution_count": 4,
   "id": "a9f48b24",
   "metadata": {},
   "outputs": [
    {
     "name": "stderr",
     "output_type": "stream",
     "text": [
      "/Users/EdenChung/anaconda3/envs/machine_learning/lib/python3.9/site-packages/pinecone/index.py:4: TqdmExperimentalWarning: Using `tqdm.autonotebook.tqdm` in notebook mode. Use `tqdm.tqdm` instead to force console mode (e.g. in jupyter console)\n",
      "  from tqdm.autonotebook import tqdm\n"
     ]
    }
   ],
   "source": [
    "import PyPDF2\n",
    "from langchain.document_loaders import UnstructuredPDFLoader, OnlinePDFLoader, PyPDFLoader\n",
    "from langchain.text_splitter import RecursiveCharacterTextSplitter\n",
    "import os\n",
    "from langchain.vectorstores import Chroma, Pinecone\n",
    "from langchain.embeddings.openai import OpenAIEmbeddings\n",
    "import pinecone\n",
    "from langchain.vectorstores import FAISS\n",
    "from langchain.llms import OpenAI\n",
    "from langchain.chat_models import ChatOpenAI\n",
    "from langchain.chains import RetrievalQA\n",
    "from langchain.chains import RetrievalQAWithSourcesChain\n",
    "from langchain.llms import OpenAI\n",
    "from langchain.chains.question_answering import load_qa_chain\n",
    "import json\n",
    "import re"
   ]
  },
  {
   "cell_type": "markdown",
   "id": "3fe39202",
   "metadata": {},
   "source": [
    "Following this tutorial: https://dipankarmedh1.medium.com/exploring-the-power-of-rag-and-openais-function-calling-for-question-answering-d512c45c56b5"
   ]
  },
  {
   "cell_type": "code",
   "execution_count": 1,
   "id": "29b1f7de",
   "metadata": {},
   "outputs": [],
   "source": [
    "def extract_text_from_pdf(file_path: str) -> str:\n",
    "        # Create a PDF reader object\n",
    "    pdf_reader = PyPDFLoader(file_path)\n",
    "    data = pdf_reader.load()\n",
    "    \n",
    "    return data"
   ]
  },
  {
   "cell_type": "code",
   "execution_count": 5,
   "id": "d808c681",
   "metadata": {},
   "outputs": [],
   "source": [
    "def get_data_chunks(data: str, chunk_size: int):\n",
    "    text_splitter = RecursiveCharacterTextSplitter(chunk_size=chunk_size, chunk_overlap=5,\n",
    "                        separators=[\"\\n\\n\", \"\\n\", \" \", \"\"], length_function=len)\n",
    "    #chunks = text_splitter.split_text(data)\n",
    "    chunks = text_splitter.split_documents(data)\n",
    "    return chunks"
   ]
  },
  {
   "cell_type": "code",
   "execution_count": 6,
   "id": "ca63217d",
   "metadata": {},
   "outputs": [],
   "source": [
    "OPENAI_API_KEY = os.environ[\"OPENAI_API_KEY\"]\n",
    "PINECONE_API_KEY = os.environ.get('PINECONE_API_KEY', '546106c9-d7dd-439d-877b-157320aa3eda')\n",
    "PINECONE_API_ENV = os.environ.get('PINECONE_API_ENV', 'gcp-starter')"
   ]
  },
  {
   "cell_type": "code",
   "execution_count": 7,
   "id": "2bbe93d5",
   "metadata": {},
   "outputs": [],
   "source": [
    "pinecone.init(\n",
    "    api_key= PINECONE_API_KEY,\n",
    "    environment= PINECONE_API_ENV \n",
    ")\n",
    "index_name = 'langchaintest2'\n",
    "\n",
    "if index_name not in pinecone.list_indexes():\n",
    "    # we create a new index\n",
    "    pinecone.create_index(\n",
    "        name=index_name,\n",
    "        metric='cosine',\n",
    "        dimension=1536  # 1536 dim of text-embedding-ada-002\n",
    ")\n",
    "    \n"
   ]
  },
  {
   "cell_type": "code",
   "execution_count": 8,
   "id": "bf7be42b",
   "metadata": {},
   "outputs": [],
   "source": [
    "embeddings = OpenAIEmbeddings(openai_api_key= OPENAI_API_KEY)"
   ]
  },
  {
   "cell_type": "code",
   "execution_count": 9,
   "id": "25dd0020",
   "metadata": {},
   "outputs": [],
   "source": [
    "def create_knowledge_hub(chunks: list):\n",
    "    index = pinecone.Index(index_name)\n",
    "    text_field = \"text\"\n",
    "    embeddings = OpenAIEmbeddings(openai_api_key= OPENAI_API_KEY)\n",
    "    knowledge_hub = Pinecone(index, embeddings.embed_query, text_field)\n",
    "    return knowledge_hub"
   ]
  },
  {
   "cell_type": "code",
   "execution_count": 10,
   "id": "9bf2e1d7",
   "metadata": {},
   "outputs": [],
   "source": [
    "def get_answer_LLM(\n",
    "        question: str,\n",
    "        data: str,\n",
    "        chunk_size: int = 1000,\n",
    "        chain_type: str = 'stuff',\n",
    "    ) -> str:    \n",
    "    if data == \"\":\n",
    "        return \"\"\n",
    "    \n",
    "    chunks = get_data_chunks(data, chunk_size=chunk_size)  # create text chunks\n",
    "    knowledge_hub = create_knowledge_hub(chunks)  # create knowledge hub\n",
    "\n",
    "    retriever = knowledge_hub.as_retriever(\n",
    "        search_type=\"similarity\", search_kwargs={\"k\": 2}\n",
    "    )\n",
    "    source = knowledge_hub.similarity_search(question, k = 1)\n",
    "    print(\"test\", source)\n",
    "\n",
    "    chain = RetrievalQA.from_chain_type(\n",
    "        llm=OpenAI(temperature=0.3, model_name=\"gpt-3.5-turbo\", openai_api_key = OPENAI_API_KEY),\n",
    "        chain_type=chain_type,\n",
    "        retriever=retriever,\n",
    "        return_source_documents=True,\n",
    "    )\n",
    "    result = chain({\"query\": question})\n",
    "\n",
    "    return result['result'], source"
   ]
  },
  {
   "cell_type": "code",
   "execution_count": 11,
   "id": "6fefc552",
   "metadata": {},
   "outputs": [],
   "source": [
    "def get_relevant_chunk(\n",
    "        question: str,\n",
    "        data: str,\n",
    "        chunk_size: int = 1000,\n",
    "    ) -> str:    \n",
    "    if data == \"\":\n",
    "        return \"\"\n",
    "    \n",
    "    chunks = get_data_chunks(data, chunk_size=chunk_size)  # create text chunks\n",
    "    knowledge_hub = create_knowledge_hub(chunks)  # create knowledge hub\n",
    "\n",
    "    source = knowledge_hub.similarity_search(question, k = 2)\n",
    "\n",
    "    print(\"most relevant chunk is,\", source)\n",
    "    return source"
   ]
  },
  {
   "cell_type": "code",
   "execution_count": 15,
   "id": "64899a4b",
   "metadata": {},
   "outputs": [],
   "source": [
    "def fill_train_data(\n",
    "        question: str, #our own question\n",
    "        pdf_path: str,\n",
    "):\n",
    "    \n",
    "        \"\"\"\n",
    "        This function will take in our question and the path to the pdf, find the most relevant chunk and return that chunk\n",
    "        \"\"\"\n",
    "\n",
    "        #getting the most relevant chunk\n",
    "        CHUNK_SIZE = 400\n",
    "        data = extract_text_from_pdf(pdf_path)\n",
    "        context = get_relevant_chunk(question, data, CHUNK_SIZE)\n",
    "\n",
    "        page_content = context[0].page_content\n",
    "        page_content = page_content.replace(r'\\x', '')\n",
    "        \n",
    "        #print(page_content)\n",
    "\n",
    "        return page_content\n",
    "\n",
    "        #return context"
   ]
  },
  {
   "cell_type": "code",
   "execution_count": 16,
   "id": "10cd6450",
   "metadata": {},
   "outputs": [],
   "source": [
    "ROLE_SYSTEM = \"You are a factual chatbot that answers questions about 10-K documents. You only answer with answers you find in the text, no outside information.\"\n",
    "\n",
    "def add_to_training_file(path_to_json, question, answer, context):\n",
    "    my_data = (\n",
    "        f'{{\"messages\": [{{\"role\": \"system\", \"content\": \"{ROLE_SYSTEM}\"}},'\n",
    "        f'{{\"role\": \"user\", \"content\": \"This is our information from the 10-K: {context}. Now, this is our question: {question}\"}},'\n",
    "        f'{{\"role\": \"assistant\", \"content\": \"{answer}\"}}]}}'\n",
    "        '\\n'\n",
    "    )\n",
    "\n",
    "    try:\n",
    "        with open(path_to_json, \"a\") as file:\n",
    "            file.write(my_data)\n",
    "    except (FileNotFoundError, json.JSONDecodeError):\n",
    "        return\n",
    "\n"
   ]
  },
  {
   "cell_type": "code",
   "execution_count": 20,
   "id": "47b8a822",
   "metadata": {},
   "outputs": [],
   "source": [
    "def fill_json(path_to_json, pdf_path, question, answer):\n",
    "    context = fill_train_data(question, pdf_path)\n",
    "    print(context)\n",
    "    add_to_training_file(path_to_json, question, answer, context)"
   ]
  },
  {
   "cell_type": "code",
   "execution_count": 21,
   "id": "75789b3f",
   "metadata": {},
   "outputs": [
    {
     "name": "stderr",
     "output_type": "stream",
     "text": [
      "/Users/EdenChung/anaconda3/envs/machine_learning/lib/python3.9/site-packages/langchain/vectorstores/pinecone.py:59: UserWarning: Passing in `embedding` as a Callable is deprecated. Please pass in an Embeddings object instead.\n",
      "  warnings.warn(\n"
     ]
    },
    {
     "name": "stdout",
     "output_type": "stream",
     "text": [
      "Business Seasonality and Product IntroductionsThe Company has historically experienced higher net sales in its ﬁrst quarter compared to other quarters in its ﬁscal year due in part toseasonal holiday demand. Additionally, new product and service introductions can signiﬁcantly impact net sales, cost of sales andoperating expenses. The timing of product introductions can also impact the Company’s net sales to its indirect distribution channels asthese channels are ﬁlled with new inventory following a product launch, and channel inventory of an older product often declines as thelaunch of a newer product approaches. Net sales can also be affected when consumers and distributors anticipate a productintroduction.Human CapitalThe Company believes it has a talented, motivated and dedicated team, and works to create an inclusive, safe and supportiveenvironment for all of its team members. As of September 24, 2022, the Company had approximately 164,000 full-time equivalentemployees.Workplace Practices and PoliciesThe Company is an equal opportunity employer committed to inclusion and diversity and to providing a workplace free of harassment ordiscrimination.Compensation and BeneﬁtsThe Company believes that compensation should be competitive and equitable, and should enable employees to share in theCompany’s success. The Company recognizes its people are most likely to thrive when they have the resources to meet their needs andthe time and support to succeed in their professional and personal lives. In support of this, the Company offers a wide variety of beneﬁtsfor employees around the world and invests in tools and resources that are designed to support employees’ individual growth anddevelopment.Inclusion and DiversityThe Company remains committed to its vision to build and sustain a more inclusive workforce that is representative of the communities itserves. The Company continues to work to increase diverse representation at every level, foster an inclusive culture, and\n"
     ]
    }
   ],
   "source": [
    "fill_json(\"./Datasets/my_test_oct24\", \"../Documents/aapl-10-k.pdf\", \"How does the company generate its revenue? What are its main products or services?\", \"The Company designs, manufactures and markets smartphones (iPhones), personal computers (Macbooks and Macs), tablets (iPads), wearables and accessories (Airpods, Apple TV, Apple Watch), and sells a variety of related services.\")"
   ]
  },
  {
   "cell_type": "code",
   "execution_count": 22,
   "id": "67b24384",
   "metadata": {},
   "outputs": [],
   "source": [
    "#Make dataset\n",
    "\n",
    "question_answer_dic_apple = {\n",
    "    \"How does the company generate its revenue? What are its main products or services?\": \"The Company designs, manufactures and markets smartphones (iPhones), personal computers (Macbooks and Macs), tablets (iPads), wearables and accessories (Airpods, Apple TV, Apple Watch), and sells a variety of related services.\",\n",
    "    \"Does the company operate in multiple geographic regions or industries?\": \"Yes, the Company has international operations with sales outside the U.S.  In addition, the Company’s global supply chain is large and complex and a majority of the Company’s supplier facilities, including manufacturing and assembly sites, are located outside the U.S.\",\n",
    "    \"Are there any significant changes or developments in the company's business model, strategy, or competitive landscape?\": \"During the COVID-19 pandemic, the Company’s component suppliers and manufacturing and logistical service providers have experienced disruptions, resulting in supply shortages that affected sales worldwide.\",\n",
    "    \"What were the company's revenues and net income for the past few years, and how have they changed over time?\": \"Apple’s revenue was $394.3 billion in 2022, $365.8 billion in 2021 and $275.5 billion in 2020. Revenue has been increasing over time, increasing 8% from 2021 to 2022, and 33% from 2020 to 2021. Net income has also increased steadily, from $57,411 in 2020, to $94,680 in 2021 to $99,803 in 2022.\",\n",
    "    \"What are the major drivers of revenue and profit growth or decline?\":\"The major drivers of revenue growth are net sales from new products, software and services. Some major technology which drove revenue growth were upgrades to the MacBook Pros, new iPhone, AirPods, and Apple Watch releases, as well as updates to the operating systems. Some factors which negatively impacted profit growth was the weakness in currencies relative to the US dollar in areas such as Europe, Japan, and the Rest of Asia Pacific.\",\n",
    "    \"Are there any significant trends or patterns in the company's financial statements?\": \"The primary trends in Apple’s financial statements is that it has consistently increased its revenue and expenses, however the release of new products and services has caused sales to increase at a higher rate than costs, meaning that net profit has been increasing for the past few years as well. The balance sheet also shows that Apple has increased its Assets, Liabilities, and Shareholders equity in the past year.\",\n",
    "    \"Who are the company's key executives and board members? What is their experience and track record?\": \"Timothy D. Cook is the Chief Executive Officer and Director, Luca Maestri is the Senior Vice President, Chief Financial Officer, Chris Kondo is the Senior Director of Corporate Accounting, James A. Bell is the Director, Al Gore is the Director, Alex Gorsky is the Director, Andrea Jung is the Director, Arthur D. Levinson is the Director and Chair of the Board, Monica Lozano is the Director, Ronald D. Sugar is the Director, and Susan L. Wagner is the Director.\",\n",
    "    \"What is the company's overall financial health, including its liquidity, solvency, and capital structure?\": \"The company is in pretty good financial health, considering its ability to increase revenue and profit amidst unfavorable macroeconomic conditions. Apple also has over $156.4 billion in capital resources, and has enough to sustain itself for the next 12 months. \",\n",
    "    \"How much debt does the company have, and what are the terms and conditions?\": \"Apple has a total debt of $111.8 billion in fixed rate notes as of September 23, 2022. $11.1 billion are payable within 12 months\",\n",
    "    \"Are there any contingent liabilities or off-balance-sheet arrangements that could impact the company's financial position?\": \"According to its Balance Sheet, Apple has no Commitments and contingencies.\",\n",
    "    \"What are the primary risks and uncertainties the company faces? How might they impact its future performance?\": \"Apple’s primary risk factors are dependent on the global and economic conditions of its international/national operations regarding sourcing and manufacturing of products. Also having a highly competitive market they need to ensure the successful development, transitioning and introduction of new innovative products, services and technology.\",\n",
    "    \"Has the company identified any new risks or changed its risk profile since the previous filing?\": \"No the context of the document does not state this information\",\n",
    "    \"Are there any legal or regulatory issues that could affect the company's operations?\": \"The Company’s effective tax rates are affected by changes in the mix of earnings in countries with differing statutory tax rates, changes in the valuation of deferred tax assets and liabilities, the introduction of new taxes, or changes in tax laws or their interpretation, including in the U.S. and Ireland. The application of tax laws may be uncertain, require significant judgment and be subject to differing interpretations.\",\n",
    "}\n",
    "\n",
    "question_answer_dic_bofa = {\n",
    "    \"How does the company generate its revenue? What are its main products or services?\": \"The Corporation is a bank holding company and a financial holding company. They serve individual consumers, small- and middle- market businesses, institutional investors, large corporations and governments with a full range of banking, investing, asset management and other financial and risk management products and services.\",\n",
    "    \"Does the company operate in multiple geographic regions or industries?\": \"Yes, the Company operates in international markets in more than 35 countries through the Global Wealth & Investment Management (GWIM), Global Banking and Global Markets\",\n",
    "    \"What were the company's revenues and net income for the past few years, and how have they changed over time?\": \"Bank of America’s revenue was $94.95 billion dollars in 2022 and $80.11 billion dollars in 2021, and $85.528 billion dollars in 2020. The net income in 2022 was $27.528 billion in 2022 and $31.978 billion in 2021 and $43.36 billion in 2020. \",\n",
    "    \"What are the major drivers of revenue and profit growth or decline?\": \"There are several drivers of growth for each of Bank of America’s businesses. Revenue for Business lending increased due to higher interest rates and loan balances. Sales and Trading Revenue increased because of improved trading performance and improved client financing activities\",\n",
    "    \"Are there any significant trends or patterns in the company's financial statements?\": \"The main trends are the revenue has increased, but income has fallen slightly due to higher costs. Total assets decreased by 4%, including a 34% drop in cash equivalents, and total liability decreased slightly as well with no significant change to shareholders equity.\",\n",
    "    \"How much debt does the company have, and what are the terms and conditions?\": \"Bank of America has $862 billion in total debt securities, and $4.5 billion in long term debt. \",\n",
    "\n",
    "}\n",
    "#ISSUE HERE TOO\n",
    "question_answer_dic_nvidia = {\n",
    "    \"How does the company generate its revenue? What are its main products or services? Please give me information for the company NVIDIA\": \"The Company, originally focused on PC graphics, now creates GPU architecture, highly used in AI, data science, autonomous vehicles among other industries. The business is split into two segments: Compute & Networking, including the Data Center, NVIDIA AI Enterprise, cryptocurrency mining processors, robotics, among more, and the Graphics segment, relating to the GPUs.\",\n",
    "    \"Does the company operate in multiple geographic regions or industries? Please give me information for the company NVIDIA\": \"Yes, the Company’s international operations are a significant part of the business.\",\n",
    "    \"Are there any significant changes or developments in the company's business model, strategy, or competitive landscape? Please give me information for the company NVIDIA\": \"In fiscal year 2023, we introduced the Hopper architecture of data center GPUs, and started shipping the first Hopper- based GPU – the flagship H100. This improves the training of AI transformer models over the prior generation. It has also expanded its data center to include DPUs. They have also introduced the GeForce RTX 40 Series of gaming GPUs.\",\n",
    "    \"What were the company's revenues and net income for the past few years, and how have they changed over time? Please give me information for the company NVIDIA\": \"Revenue increases from $26.914 billion in 2022 to $26.974 billion in 2023, which is a $60 million increase. However costs increased significantly due to spending on research and development which caused net income to decrease from $9.752 billion in 2022 to $4.368 billion in 2021.\",\n",
    "    \"What are the major drivers of revenue and profit growth or decline? Please give me information for the company NVIDIA\": \"The main drivers of revenue in compute and networking was customer growth and multi-year cloud service agreement for NVIDIA’s new AI cloud service. The increase in revenue from graphics was due to an increase in gaming demand due to macroeconomic conditions and the COVID-19 pandemic\",\n",
    "    \"Are there any significant trends or patterns in the company's financial statements? Please give me information for the company NVIDIA\": \"Revenue has been increasing, but costs last year rose significantly causing a dip in net income\",\n",
    "    \"What is the company's overall financial health, including its liquidity, solvency, and capital structure? Please give me information for the company NVIDIA\": \"Nvidia’s main source of liquidity are cash and cash equivalents which is enough to meet operating expenses for the next 12 months, signaling that the company is in good financial health. \",\n",
    "    \"How much debt does the company have, and what are the terms and conditions? Please give me information for the company NVIDIA\": \"Nvidia as $1.250 billion in debt due in 1 year, $2.250 billion due in 5 years, $4 billion due in five to ten years and $3.5 billion due in more than 10 years. \",\n",
    "    \"Are there any contingent liabilities or off-balance-sheet arrangements that could impact the company's financial position? Please give me information for the company NVIDIA\": \"Nvidia has unrecognized tax benefits of $1.02 billion for interests and penalties\",\n",
    "    \n",
    "}"
   ]
  },
  {
   "cell_type": "code",
   "execution_count": 26,
   "id": "8ea25d9d",
   "metadata": {},
   "outputs": [
    {
     "name": "stderr",
     "output_type": "stream",
     "text": [
      "/Users/EdenChung/anaconda3/envs/machine_learning/lib/python3.9/site-packages/langchain/vectorstores/pinecone.py:59: UserWarning: Passing in `embedding` as a Callable is deprecated. Please pass in an Embeddings object instead.\n",
      "  warnings.warn(\n"
     ]
    }
   ],
   "source": [
    "aapl_file_path = \"../Documents/aapl-10-k.pdf\"\n",
    "bofa_file_path = \"../Documents/bankofamerica-10K.pdf\"\n",
    "nvidia_file_path = \"../Documents/nvda-10-k.pdf\"\n",
    "\n",
    "json_path = \".Datasets/openaitest_new.jsonl\"\n",
    "\n",
    "for item in question_answer_dic_apple:\n",
    "    fill_json(json_path, aapl_file_path, item, question_answer_dic_apple[item])\n",
    "\n",
    "#THE ISSUE IS HERE (The database is not finding the most relevant section from BofA, it is instead finding it from Apple)\n",
    "for item in question_answer_dic_bofa:\n",
    "    fill_json(json_path, bofa_file_path, item, question_answer_dic_bofa[item])\n",
    "\n",
    "#THE ISSUE IS HERE (The database is not finding the most relevant section from NVIDIA, it is instead finding it from Apple)\n",
    "for item in question_answer_dic_nvidia:\n",
    "    fill_json(json_path, nvidia_file_path, item, question_answer_dic_nvidia[item])"
   ]
  },
  {
   "cell_type": "code",
   "execution_count": 14,
   "id": "e1ca48e3",
   "metadata": {},
   "outputs": [
    {
     "name": "stderr",
     "output_type": "stream",
     "text": [
      "/Users/EdenChung/anaconda3/envs/machine_learning/lib/python3.9/site-packages/langchain/vectorstores/pinecone.py:59: UserWarning: Passing in `embedding` as a Callable is deprecated. Please pass in an Embeddings object instead.\n",
      "  warnings.warn(\n"
     ]
    }
   ],
   "source": [
    "nvidia_file_path = \"../Documents/nvda-10-k.pdf\"\n",
    "json_path = \"./Datasets/openaitest_new.jsonl\"\n",
    "\n",
    "\n",
    "for item in question_answer_dic_nvidia:\n",
    "    fill_json(json_path, nvidia_file_path, item, question_answer_dic_nvidia[item])"
   ]
  },
  {
   "cell_type": "markdown",
   "id": "d895c3f9",
   "metadata": {},
   "source": [
    "The resulting dataset from this is at ./Datasets/all_10k_dataset.jsonl"
   ]
  },
  {
   "cell_type": "markdown",
   "id": "b52b783d",
   "metadata": {},
   "source": []
  }
 ],
 "metadata": {
  "kernelspec": {
   "display_name": "machine_learning",
   "language": "python",
   "name": "python3"
  },
  "language_info": {
   "codemirror_mode": {
    "name": "ipython",
    "version": 3
   },
   "file_extension": ".py",
   "mimetype": "text/x-python",
   "name": "python",
   "nbconvert_exporter": "python",
   "pygments_lexer": "ipython3",
   "version": "3.9.7"
  }
 },
 "nbformat": 4,
 "nbformat_minor": 5
}
