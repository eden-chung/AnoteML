{
 "cells": [
  {
   "cell_type": "code",
   "execution_count": 68,
   "id": "a9f48b24",
   "metadata": {},
   "outputs": [],
   "source": [
    "import PyPDF2\n",
    "from langchain.document_loaders import UnstructuredPDFLoader, OnlinePDFLoader, PyPDFLoader\n",
    "from langchain.text_splitter import RecursiveCharacterTextSplitter\n",
    "import os\n",
    "from langchain.vectorstores import Chroma, Pinecone\n",
    "from langchain.embeddings.openai import OpenAIEmbeddings\n",
    "import pinecone\n",
    "from langchain.vectorstores import FAISS\n",
    "from langchain.llms import OpenAI\n",
    "from langchain.chat_models import ChatOpenAI\n",
    "from langchain.chains import RetrievalQA\n",
    "from langchain.vectorstores import Chroma\n",
    "from langchain.llms import OpenAI\n",
    "from langchain.chains.question_answering import load_qa_chain\n",
    "import json\n",
    "import re\n",
    "import datetime\n",
    "import shutil"
   ]
  },
  {
   "cell_type": "code",
   "execution_count": 2,
   "id": "ca63217d",
   "metadata": {},
   "outputs": [],
   "source": [
    "OPENAI_API_KEY = os.environ[\"OPENAI_API_KEY\"]\n",
    "PINECONE_API_KEY = os.environ.get('PINECONE_API_KEY', '546106c9-d7dd-439d-877b-157320aa3eda')\n",
    "PINECONE_API_ENV = os.environ.get('PINECONE_API_ENV', 'gcp-starter')"
   ]
  },
  {
   "cell_type": "code",
   "execution_count": 88,
   "id": "bf7be42b",
   "metadata": {},
   "outputs": [],
   "source": [
    "embeddings = OpenAIEmbeddings(openai_api_key= OPENAI_API_KEY)"
   ]
  },
  {
   "cell_type": "code",
   "execution_count": 89,
   "id": "6df6fb74",
   "metadata": {},
   "outputs": [],
   "source": [
    "def create_knowledge_hub(path_to_10k):\n",
    "    now = datetime.datetime.now()\n",
    "    timestamp = now.strftime(\"%Y%m%d%H%M%S\")\n",
    "    db_directory = \"db_\" + timestamp\n",
    "\n",
    "    loader = PyPDFLoader(path_to_10k)\n",
    "    documents = loader.load()\n",
    "    splitter = RecursiveCharacterTextSplitter(\n",
    "        chunk_size=1200, \n",
    "        chunk_overlap=5,\n",
    "        separators=[\"\\n\\n\", \"\\n\", \" \", \"\"],\n",
    "        length_function=len)\n",
    "    texts = splitter.split_documents(documents)\n",
    "    vectordb = Chroma.from_documents(\n",
    "        documents=texts, \n",
    "        embedding=embeddings,\n",
    "        persist_directory=db_directory\n",
    "    )\n",
    "    vectordb.persist()\n",
    "\n",
    "    return vectordb, db_directory"
   ]
  },
  {
   "cell_type": "code",
   "execution_count": 90,
   "id": "bc0cbb76",
   "metadata": {},
   "outputs": [],
   "source": [
    "def delete_chroma_db(db_directory):\n",
    "    try:\n",
    "        # Remove the entire directory, including all its contents\n",
    "        shutil.rmtree(db_directory)\n",
    "        print(f\"Chroma database '{db_directory}' deleted successfully.\")\n",
    "    except FileNotFoundError:\n",
    "        print(f\"Chroma database '{db_directory}' not found.\")\n",
    "    except Exception as e:\n",
    "        print(f\"Error deleting Chroma database: {str(e)}\")"
   ]
  },
  {
   "cell_type": "code",
   "execution_count": 94,
   "id": "9b837ef9",
   "metadata": {},
   "outputs": [],
   "source": [
    "def fill_json(path_to_json, path_to_10k, question, answer):\n",
    "    db, db_dir = create_knowledge_hub(path_to_10k)\n",
    "\n",
    "    source1 = db.similarity_search(question, k = 2)[0].page_content\n",
    "    source2 = db.similarity_search(question, k = 2)[1].page_content\n",
    "\n",
    "    source1 = source1.replace(r'\\x', '')\n",
    "    source2 = source2.replace(r'\\x', '')\n",
    "\n",
    "    source1 = source1.replace('\\n', ' ')\n",
    "    source2 = source2.replace('\\n', ' ')\n",
    "\n",
    "    source1 = source1.replace('\\\"', ' ')\n",
    "    source2 = source2.replace('\\\"', ' ')\n",
    "\n",
    "    source1 = source1.replace('\\'', ' ')\n",
    "    source2 = source2.replace('\\'', ' ')\n",
    "\n",
    "    ROLE_SYSTEM = \"You are a factual chatbot that answers questions about 10-K documents. You only answer with answers you find in the text, no outside information.\"\n",
    "    \n",
    "    my_data = (\n",
    "        f'{{\"messages\": [{{\"role\": \"system\", \"content\": \"{ROLE_SYSTEM}\"}},'\n",
    "        f'{{\"role\": \"user\", \"content\": \"This is our information from the 10-K: {source1} {source2}. Now, this is our question: {question}\"}},'\n",
    "        f'{{\"role\": \"assistant\", \"content\": \"{answer}\"}}]}}'\n",
    "        '\\n'\n",
    "    )\n",
    "\n",
    "    delete_chroma_db(db_dir)\n",
    "\n",
    "    try:\n",
    "        with open(path_to_json, \"a\") as file:\n",
    "            file.write(my_data)\n",
    "    except (FileNotFoundError, json.JSONDecodeError):\n",
    "        return\n",
    "\n",
    "\n"
   ]
  },
  {
   "cell_type": "code",
   "execution_count": 101,
   "id": "9ac5cfa6",
   "metadata": {},
   "outputs": [
    {
     "name": "stdout",
     "output_type": "stream",
     "text": [
      "Chroma database 'db_20231024223415' deleted successfully.\n"
     ]
    }
   ],
   "source": [
    "fill_json(\"./Datasets/my_test_oct24\", \"../Documents/nvda-10-k.pdf\", \"What is the company's overall financial health, including its liquidity, solvency, and capital structure?\", \"Nvidia’s main source of liquidity are cash and cash equivalents which is enough to meet operating expenses for the next 12 months, signaling that the company is in good financial health. \")"
   ]
  },
  {
   "cell_type": "code",
   "execution_count": 97,
   "id": "67b24384",
   "metadata": {},
   "outputs": [],
   "source": [
    "#Make dataset\n",
    "\n",
    "question_answer_dic_apple = {\n",
    "    \"How does the company generate its revenue? What are its main products or services?\": \"The Company designs, manufactures and markets smartphones (iPhones), personal computers (Macbooks and Macs), tablets (iPads), wearables and accessories (Airpods, Apple TV, Apple Watch), and sells a variety of related services.\",\n",
    "    \"Does the company operate in multiple geographic regions or industries?\": \"Yes, the Company has international operations with sales outside the U.S.  In addition, the Company’s global supply chain is large and complex and a majority of the Company’s supplier facilities, including manufacturing and assembly sites, are located outside the U.S.\",\n",
    "    \"Are there any significant changes or developments in the company's business model, strategy, or competitive landscape?\": \"During the COVID-19 pandemic, the Company’s component suppliers and manufacturing and logistical service providers have experienced disruptions, resulting in supply shortages that affected sales worldwide.\",\n",
    "    \"What were the company's revenues and net income for the past few years, and how have they changed over time?\": \"Apple’s revenue was $394.3 billion in 2022, $365.8 billion in 2021 and $275.5 billion in 2020. Revenue has been increasing over time, increasing 8% from 2021 to 2022, and 33% from 2020 to 2021. Net income has also increased steadily, from $57,411 in 2020, to $94,680 in 2021 to $99,803 in 2022.\",\n",
    "    \"What are the major drivers of revenue and profit growth or decline?\":\"The major drivers of revenue growth are net sales from new products, software and services. Some major technology which drove revenue growth were upgrades to the MacBook Pros, new iPhone, AirPods, and Apple Watch releases, as well as updates to the operating systems. Some factors which negatively impacted profit growth was the weakness in currencies relative to the US dollar in areas such as Europe, Japan, and the Rest of Asia Pacific.\",\n",
    "    \"Are there any significant trends or patterns in the company's financial statements?\": \"The primary trends in Apple’s financial statements is that it has consistently increased its revenue and expenses, however the release of new products and services has caused sales to increase at a higher rate than costs, meaning that net profit has been increasing for the past few years as well. The balance sheet also shows that Apple has increased its Assets, Liabilities, and Shareholders equity in the past year.\",\n",
    "    \"Who are the company's key executives and board members? What is their experience and track record?\": \"Timothy D. Cook is the Chief Executive Officer and Director, Luca Maestri is the Senior Vice President, Chief Financial Officer, Chris Kondo is the Senior Director of Corporate Accounting, James A. Bell is the Director, Al Gore is the Director, Alex Gorsky is the Director, Andrea Jung is the Director, Arthur D. Levinson is the Director and Chair of the Board, Monica Lozano is the Director, Ronald D. Sugar is the Director, and Susan L. Wagner is the Director.\",\n",
    "    \"What is the company's overall financial health, including its liquidity, solvency, and capital structure?\": \"The company is in pretty good financial health, considering its ability to increase revenue and profit amidst unfavorable macroeconomic conditions. Apple also has over $156.4 billion in capital resources, and has enough to sustain itself for the next 12 months. \",\n",
    "    \"How much debt does the company have, and what are the terms and conditions?\": \"Apple has a total debt of $111.8 billion in fixed rate notes as of September 23, 2022. $11.1 billion are payable within 12 months\",\n",
    "    \"Are there any contingent liabilities or off-balance-sheet arrangements that could impact the company's financial position?\": \"According to its Balance Sheet, Apple has no Commitments and contingencies.\",\n",
    "    \"What are the primary risks and uncertainties the company faces? How might they impact its future performance?\": \"Apple’s primary risk factors are dependent on the global and economic conditions of its international/national operations regarding sourcing and manufacturing of products. Also having a highly competitive market they need to ensure the successful development, transitioning and introduction of new innovative products, services and technology.\",\n",
    "    \"Has the company identified any new risks or changed its risk profile since the previous filing?\": \"No the context of the document does not state this information\",\n",
    "    \"Are there any legal or regulatory issues that could affect the company's operations?\": \"The Company’s effective tax rates are affected by changes in the mix of earnings in countries with differing statutory tax rates, changes in the valuation of deferred tax assets and liabilities, the introduction of new taxes, or changes in tax laws or their interpretation, including in the U.S. and Ireland. The application of tax laws may be uncertain, require significant judgment and be subject to differing interpretations.\",\n",
    "}\n",
    "\n",
    "question_answer_dic_bofa = {\n",
    "    \"How does the company generate its revenue? What are its main products or services?\": \"The Corporation is a bank holding company and a financial holding company. They serve individual consumers, small- and middle- market businesses, institutional investors, large corporations and governments with a full range of banking, investing, asset management and other financial and risk management products and services.\",\n",
    "    \"Does the company operate in multiple geographic regions or industries?\": \"Yes, the Company operates in international markets in more than 35 countries through the Global Wealth & Investment Management (GWIM), Global Banking and Global Markets\",\n",
    "    \"What were the company's revenues and net income for the past few years, and how have they changed over time?\": \"Bank of America’s revenue was $94.95 billion dollars in 2022 and $80.11 billion dollars in 2021, and $85.528 billion dollars in 2020. The net income in 2022 was $27.528 billion in 2022 and $31.978 billion in 2021 and $43.36 billion in 2020. \",\n",
    "    \"What are the major drivers of revenue and profit growth or decline?\": \"There are several drivers of growth for each of Bank of America’s businesses. Revenue for Business lending increased due to higher interest rates and loan balances. Sales and Trading Revenue increased because of improved trading performance and improved client financing activities\",\n",
    "    \"Are there any significant trends or patterns in the company's financial statements?\": \"The main trends are the revenue has increased, but income has fallen slightly due to higher costs. Total assets decreased by 4%, including a 34% drop in cash equivalents, and total liability decreased slightly as well with no significant change to shareholders equity.\",\n",
    "    \"How much debt does the company have, and what are the terms and conditions?\": \"Bank of America has $862 billion in total debt securities, and $4.5 billion in long term debt. \",\n",
    "\n",
    "}\n",
    "question_answer_dic_nvidia = {\n",
    "    \"How does the company generate its revenue? What are its main products or services? Please give me information for the company NVIDIA\": \"The Company, originally focused on PC graphics, now creates GPU architecture, highly used in AI, data science, autonomous vehicles among other industries. The business is split into two segments: Compute & Networking, including the Data Center, NVIDIA AI Enterprise, cryptocurrency mining processors, robotics, among more, and the Graphics segment, relating to the GPUs.\",\n",
    "    \"Does the company operate in multiple geographic regions or industries? Please give me information for the company NVIDIA\": \"Yes, the Company’s international operations are a significant part of the business.\",\n",
    "    \"Are there any significant changes or developments in the company's business model, strategy, or competitive landscape? Please give me information for the company NVIDIA\": \"In fiscal year 2023, we introduced the Hopper architecture of data center GPUs, and started shipping the first Hopper- based GPU – the flagship H100. This improves the training of AI transformer models over the prior generation. It has also expanded its data center to include DPUs. They have also introduced the GeForce RTX 40 Series of gaming GPUs.\",\n",
    "    \"What were the company's revenues and net income for the past few years, and how have they changed over time? Please give me information for the company NVIDIA\": \"Revenue increases from $26.914 billion in 2022 to $26.974 billion in 2023, which is a $60 million increase. However costs increased significantly due to spending on research and development which caused net income to decrease from $9.752 billion in 2022 to $4.368 billion in 2021.\",\n",
    "    \"What are the major drivers of revenue and profit growth or decline? Please give me information for the company NVIDIA\": \"The main drivers of revenue in compute and networking was customer growth and multi-year cloud service agreement for NVIDIA’s new AI cloud service. The increase in revenue from graphics was due to an increase in gaming demand due to macroeconomic conditions and the COVID-19 pandemic\",\n",
    "    \"Are there any significant trends or patterns in the company's financial statements? Please give me information for the company NVIDIA\": \"Revenue has been increasing, but costs last year rose significantly causing a dip in net income\",\n",
    "    \"What is the company's overall financial health, including its liquidity, solvency, and capital structure? Please give me information for the company NVIDIA\": \"Nvidia’s main source of liquidity are cash and cash equivalents which is enough to meet operating expenses for the next 12 months, signaling that the company is in good financial health. \",\n",
    "    \"How much debt does the company have, and what are the terms and conditions? Please give me information for the company NVIDIA\": \"Nvidia as $1.250 billion in debt due in 1 year, $2.250 billion due in 5 years, $4 billion due in five to ten years and $3.5 billion due in more than 10 years. \",\n",
    "    \"Are there any contingent liabilities or off-balance-sheet arrangements that could impact the company's financial position? Please give me information for the company NVIDIA\": \"Nvidia has unrecognized tax benefits of $1.02 billion for interests and penalties\",\n",
    "    \n",
    "}"
   ]
  },
  {
   "cell_type": "code",
   "execution_count": 98,
   "id": "aeefc4de",
   "metadata": {},
   "outputs": [
    {
     "name": "stdout",
     "output_type": "stream",
     "text": [
      "Chroma database 'db_20231024221245' deleted successfully.\n",
      "Chroma database 'db_20231024221254' deleted successfully.\n",
      "Chroma database 'db_20231024221302' deleted successfully.\n",
      "Chroma database 'db_20231024221310' deleted successfully.\n",
      "Chroma database 'db_20231024221318' deleted successfully.\n",
      "Chroma database 'db_20231024221327' deleted successfully.\n",
      "Chroma database 'db_20231024221335' deleted successfully.\n",
      "Chroma database 'db_20231024221343' deleted successfully.\n",
      "Chroma database 'db_20231024221352' deleted successfully.\n",
      "Chroma database 'db_20231024221403' deleted successfully.\n",
      "Chroma database 'db_20231024221411' deleted successfully.\n",
      "Chroma database 'db_20231024221420' deleted successfully.\n",
      "Chroma database 'db_20231024221428' deleted successfully.\n"
     ]
    }
   ],
   "source": [
    "#For Apple\n",
    "aapl_file_path = \"../Documents/aapl-10-k.pdf\"\n",
    "json_path = \"./Datasets/test10k.jsonl\"\n",
    "\n",
    "for item in question_answer_dic_apple:\n",
    "    fill_json(json_path, aapl_file_path, item, question_answer_dic_apple[item])\n"
   ]
  },
  {
   "cell_type": "code",
   "execution_count": 96,
   "id": "5fcf279f",
   "metadata": {},
   "outputs": [
    {
     "name": "stdout",
     "output_type": "stream",
     "text": [
      "Chroma database 'db_20231024221110' deleted successfully.\n",
      "Chroma database 'db_20231024221134' deleted successfully.\n"
     ]
    }
   ],
   "source": [
    "#For BofA\n",
    "bofa_file_path = \"../Documents/bankofamerica-10K.pdf\"\n",
    "json_path = \"./Datasets/test10k.jsonl\"\n",
    "\n",
    "for item in question_answer_dic_bofa:\n",
    "    fill_json(json_path, bofa_file_path, item, question_answer_dic_bofa[item])"
   ]
  },
  {
   "cell_type": "code",
   "execution_count": 99,
   "id": "6672a2f8",
   "metadata": {},
   "outputs": [
    {
     "name": "stdout",
     "output_type": "stream",
     "text": [
      "Chroma database 'db_20231024221450' deleted successfully.\n",
      "Chroma database 'db_20231024221518' deleted successfully.\n"
     ]
    }
   ],
   "source": [
    "#For NVIDIA\n",
    "nvidia_file_path = \"../Documents/nvda-10-k.pdf\"\n",
    "json_path = \"./Datasets/test10k.jsonl\"\n",
    "\n",
    "for item in question_answer_dic_nvidia:\n",
    "    fill_json(json_path, nvidia_file_path, item, question_answer_dic_nvidia[item])"
   ]
  },
  {
   "cell_type": "markdown",
   "id": "b52b783d",
   "metadata": {},
   "source": []
  }
 ],
 "metadata": {
  "kernelspec": {
   "display_name": "machine_learning",
   "language": "python",
   "name": "python3"
  },
  "language_info": {
   "codemirror_mode": {
    "name": "ipython",
    "version": 3
   },
   "file_extension": ".py",
   "mimetype": "text/x-python",
   "name": "python",
   "nbconvert_exporter": "python",
   "pygments_lexer": "ipython3",
   "version": "3.9.7"
  }
 },
 "nbformat": 4,
 "nbformat_minor": 5
}
