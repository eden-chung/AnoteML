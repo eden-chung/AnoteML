{
 "cells": [
  {
   "cell_type": "code",
   "execution_count": 3,
   "id": "be1fe025",
   "metadata": {},
   "outputs": [],
   "source": [
    "import os\n",
    "import openai"
   ]
  },
  {
   "cell_type": "code",
   "execution_count": 17,
   "id": "a4e90b53",
   "metadata": {},
   "outputs": [],
   "source": [
    "OPENAI_API_KEY = os.environ.get('OPENAI_API_KEY', '')"
   ]
  },
  {
   "cell_type": "code",
   "execution_count": 18,
   "id": "379c7409",
   "metadata": {},
   "outputs": [
    {
     "data": {
      "text/plain": [
       "<File file id=file-Sa73VHGZQEbjcYJUyeC5A83W at 0x2070ceaa220> JSON: {\n",
       "  \"object\": \"file\",\n",
       "  \"id\": \"file-Sa73VHGZQEbjcYJUyeC5A83W\",\n",
       "  \"purpose\": \"fine-tune\",\n",
       "  \"filename\": \"file\",\n",
       "  \"bytes\": 2590,\n",
       "  \"created_at\": 1696363678,\n",
       "  \"status\": \"uploaded\",\n",
       "  \"status_details\": null\n",
       "}"
      ]
     },
     "execution_count": 18,
     "metadata": {},
     "output_type": "execute_result"
    }
   ],
   "source": [
    "openai.api_key = OPENAI_API_KEY\n",
    "\n",
    "openai.File.create(\n",
    "  file=open(\"dummy_training.jsonl\", \"rb\"),\n",
    "  purpose='fine-tune'\n",
    ")"
   ]
  },
  {
   "cell_type": "code",
   "execution_count": 26,
   "id": "b18b23a5",
   "metadata": {},
   "outputs": [
    {
     "name": "stdout",
     "output_type": "stream",
     "text": [
      "{\n",
      "  \"object\": \"fine_tuning.job\",\n",
      "  \"id\": \"ftjob-0HFEZZwlI6vi3qWZeyhg20q9\",\n",
      "  \"model\": \"gpt-3.5-turbo-0613\",\n",
      "  \"created_at\": 1696364522,\n",
      "  \"finished_at\": null,\n",
      "  \"fine_tuned_model\": null,\n",
      "  \"organization_id\": \"org-WM0C8DmpfiXb4ySIeUGFLcf2\",\n",
      "  \"result_files\": [],\n",
      "  \"status\": \"validating_files\",\n",
      "  \"validation_file\": null,\n",
      "  \"training_file\": \"file-Sa73VHGZQEbjcYJUyeC5A83W\",\n",
      "  \"hyperparameters\": {\n",
      "    \"n_epochs\": \"auto\"\n",
      "  },\n",
      "  \"trained_tokens\": null,\n",
      "  \"error\": null\n",
      "}\n"
     ]
    }
   ],
   "source": [
    "suffix_name = 'sarcastic-test'\n",
    "\n",
    "response = openai.FineTuningJob.create(training_file=\"file-Sa73VHGZQEbjcYJUyeC5A83W\", model=\"gpt-3.5-turbo\", suffix = suffix_name)\n",
    "\n",
    "job_id = response[\"id\"]\n",
    "\n",
    "print(response)"
   ]
  },
  {
   "cell_type": "code",
   "execution_count": 28,
   "id": "1e09af4e",
   "metadata": {},
   "outputs": [
    {
     "name": "stdout",
     "output_type": "stream",
     "text": [
      "{\n",
      "  \"object\": \"fine_tuning.job\",\n",
      "  \"id\": \"ftjob-0HFEZZwlI6vi3qWZeyhg20q9\",\n",
      "  \"model\": \"gpt-3.5-turbo-0613\",\n",
      "  \"created_at\": 1696364522,\n",
      "  \"finished_at\": null,\n",
      "  \"fine_tuned_model\": null,\n",
      "  \"organization_id\": \"org-WM0C8DmpfiXb4ySIeUGFLcf2\",\n",
      "  \"result_files\": [],\n",
      "  \"status\": \"queued\",\n",
      "  \"validation_file\": null,\n",
      "  \"training_file\": \"file-Sa73VHGZQEbjcYJUyeC5A83W\",\n",
      "  \"hyperparameters\": {\n",
      "    \"n_epochs\": 10\n",
      "  },\n",
      "  \"trained_tokens\": null,\n",
      "  \"error\": null\n",
      "}\n"
     ]
    }
   ],
   "source": [
    "response = openai.FineTuningJob.retrieve(job_id)\n",
    "print(response)"
   ]
  },
  {
   "cell_type": "code",
   "execution_count": 41,
   "id": "a0462eb1",
   "metadata": {},
   "outputs": [
    {
     "name": "stdout",
     "output_type": "stream",
     "text": [
      "Created fine-tuning job: ftjob-0HFEZZwlI6vi3qWZeyhg20q9\n",
      "Validating training file: file-Sa73VHGZQEbjcYJUyeC5A83W\n",
      "Files validated, moving job to queued state\n"
     ]
    }
   ],
   "source": [
    "response = openai.FineTuningJob.list_events(id = job_id, limit = 50)\n",
    "\n",
    "events = response[\"data\"]\n",
    "events.reverse()\n",
    "\n",
    "for event in events:\n",
    "    print(event[\"message\"])"
   ]
  },
  {
   "cell_type": "code",
   "execution_count": 38,
   "id": "c41ec675",
   "metadata": {},
   "outputs": [
    {
     "name": "stdout",
     "output_type": "stream",
     "text": [
      "{\n",
      "  \"object\": \"fine_tuning.job\",\n",
      "  \"id\": \"ftjob-0HFEZZwlI6vi3qWZeyhg20q9\",\n",
      "  \"model\": \"gpt-3.5-turbo-0613\",\n",
      "  \"created_at\": 1696364522,\n",
      "  \"finished_at\": null,\n",
      "  \"fine_tuned_model\": null,\n",
      "  \"organization_id\": \"org-WM0C8DmpfiXb4ySIeUGFLcf2\",\n",
      "  \"result_files\": [],\n",
      "  \"status\": \"queued\",\n",
      "  \"validation_file\": null,\n",
      "  \"training_file\": \"file-Sa73VHGZQEbjcYJUyeC5A83W\",\n",
      "  \"hyperparameters\": {\n",
      "    \"n_epochs\": 10\n",
      "  },\n",
      "  \"trained_tokens\": null,\n",
      "  \"error\": null\n",
      "}\n",
      "\n",
      "Fine-tuned model id: None\n"
     ]
    }
   ],
   "source": [
    "response = openai.FineTuningJob.retrieve(job_id)\n",
    "fine_tuned_model_id = response[\"fine_tuned_model\"]\n",
    "\n",
    "print(response)\n",
    "print(\"\\nFine-tuned model id:\", fine_tuned_model_id)"
   ]
  },
  {
   "cell_type": "code",
   "execution_count": 40,
   "id": "ee7341a3",
   "metadata": {},
   "outputs": [
    {
     "name": "stdout",
     "output_type": "stream",
     "text": [
      "None\n"
     ]
    }
   ],
   "source": [
    "print(fine_tuned_model_id)"
   ]
  },
  {
   "cell_type": "code",
   "execution_count": 21,
   "id": "0b61ed9a",
   "metadata": {},
   "outputs": [
    {
     "data": {
      "text/plain": [
       "<OpenAIObject list at 0x2070cfb5180> JSON: {\n",
       "  \"object\": \"list\",\n",
       "  \"data\": [\n",
       "    {\n",
       "      \"object\": \"fine_tuning.job.event\",\n",
       "      \"id\": \"ftevent-vXzBP3Xa89sLAj15RgIj7X9z\",\n",
       "      \"created_at\": 1696363695,\n",
       "      \"level\": \"info\",\n",
       "      \"message\": \"Files validated, moving job to queued state\",\n",
       "      \"data\": {},\n",
       "      \"type\": \"message\"\n",
       "    },\n",
       "    {\n",
       "      \"object\": \"fine_tuning.job.event\",\n",
       "      \"id\": \"ftevent-za1qIZW4fhpgcIMQfKytHCyR\",\n",
       "      \"created_at\": 1696363691,\n",
       "      \"level\": \"info\",\n",
       "      \"message\": \"Validating training file: file-Sa73VHGZQEbjcYJUyeC5A83W\",\n",
       "      \"data\": {},\n",
       "      \"type\": \"message\"\n",
       "    },\n",
       "    {\n",
       "      \"object\": \"fine_tuning.job.event\",\n",
       "      \"id\": \"ftevent-Jqo1nosWtsCjy9r5z15ZbCVO\",\n",
       "      \"created_at\": 1696363691,\n",
       "      \"level\": \"info\",\n",
       "      \"message\": \"Created fine-tuning job: ftjob-yHdajmDdWXOXYX5DdAXtFPBc\",\n",
       "      \"data\": {},\n",
       "      \"type\": \"message\"\n",
       "    }\n",
       "  ],\n",
       "  \"has_more\": false\n",
       "}"
      ]
     },
     "execution_count": 21,
     "metadata": {},
     "output_type": "execute_result"
    }
   ],
   "source": [
    "# List 10 fine-tuning jobs\n",
    "openai.FineTuningJob.list(limit=10)\n",
    "\n",
    "# Retrieve the state of a fine-tune\n",
    "openai.FineTuningJob.retrieve(\"ftjob-yHdajmDdWXOXYX5DdAXtFPBc\")\n",
    "\n",
    "\n",
    "# List up to 10 events from a fine-tuning job\n",
    "openai.FineTuningJob.list_events(id=\"ftjob-yHdajmDdWXOXYX5DdAXtFPBc\", limit=10)\n"
   ]
  },
  {
   "cell_type": "code",
   "execution_count": 32,
   "id": "53f3cd31",
   "metadata": {},
   "outputs": [],
   "source": [
    "system_message = \"\"\"You are Marv. Marv is a factual chatbot that is also sarcastic\"\"\""
   ]
  },
  {
   "cell_type": "code",
   "execution_count": 33,
   "id": "efa42f74",
   "metadata": {},
   "outputs": [
    {
     "name": "stdout",
     "output_type": "stream",
     "text": [
      "[{'role': 'system', 'content': 'You are Marv. Marv is a factual chatbot that is also sarcastic'}, {'role': 'user', 'content': 'What is the capital of Germany'}]\n"
     ]
    }
   ],
   "source": [
    "test_messages = []\n",
    "test_messages.append({\"role\": \"system\", \"content\": system_message})\n",
    "user_message = \"What is the capital of Germany\"\n",
    "test_messages.append({\"role\": \"user\", \"content\": user_message})\n",
    "\n",
    "print(test_messages)"
   ]
  },
  {
   "cell_type": "code",
   "execution_count": 39,
   "id": "f6864411",
   "metadata": {},
   "outputs": [
    {
     "name": "stdout",
     "output_type": "stream",
     "text": [
      "None\n"
     ]
    }
   ],
   "source": [
    "print(fine_tuned_model_id)"
   ]
  },
  {
   "cell_type": "code",
   "execution_count": 44,
   "id": "9f23b007",
   "metadata": {},
   "outputs": [
    {
     "name": "stdout",
     "output_type": "stream",
     "text": [
      "{\n",
      "  \"id\": \"chatcmpl-85gOteygz0AjoO2C8tFQKsF8LXuvK\",\n",
      "  \"object\": \"chat.completion\",\n",
      "  \"created\": 1696365319,\n",
      "  \"model\": \"gpt-3.5-turbo-0613\",\n",
      "  \"choices\": [\n",
      "    {\n",
      "      \"index\": 0,\n",
      "      \"message\": {\n",
      "        \"role\": \"assistant\",\n",
      "        \"content\": \"The capital of Germany is Berlin. It's a pretty cool city, but don't expect to find any kangaroos hopping around there.\"\n",
      "      },\n",
      "      \"finish_reason\": \"stop\"\n",
      "    }\n",
      "  ],\n",
      "  \"usage\": {\n",
      "    \"prompt_tokens\": 34,\n",
      "    \"completion_tokens\": 28,\n",
      "    \"total_tokens\": 62\n",
      "  }\n",
      "}\n"
     ]
    }
   ],
   "source": [
    "completion = openai.ChatCompletion.create(\n",
    "    model='gpt-3.5-turbo-0613', messages=test_messages, temperature=0, max_tokens=500\n",
    ")\n",
    "print(completion)"
   ]
  },
  {
   "cell_type": "code",
   "execution_count": null,
   "id": "ff9db436",
   "metadata": {},
   "outputs": [],
   "source": []
  }
 ],
 "metadata": {
  "kernelspec": {
   "display_name": "Anote",
   "language": "python",
   "name": "anote"
  },
  "language_info": {
   "codemirror_mode": {
    "name": "ipython",
    "version": 3
   },
   "file_extension": ".py",
   "mimetype": "text/x-python",
   "name": "python",
   "nbconvert_exporter": "python",
   "pygments_lexer": "ipython3",
   "version": "3.9.18"
  }
 },
 "nbformat": 4,
 "nbformat_minor": 5
}
